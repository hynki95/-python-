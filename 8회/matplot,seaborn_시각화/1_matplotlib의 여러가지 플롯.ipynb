{
 "cells": [
  {
   "cell_type": "code",
   "execution_count": 3,
   "metadata": {
    "collapsed": true
   },
   "outputs": [],
   "source": [
    "import numpy as np\n",
    "import pandas as pd\n",
    "import matplotlib.pyplot as plt"
   ]
  },
  {
   "cell_type": "code",
   "execution_count": 4,
   "metadata": {
    "collapsed": true
   },
   "outputs": [],
   "source": [
    "# 한글 폰트\n",
    "from matplotlib import font_manager, rc\n",
    "font_name = font_manager.FontProperties(fname=\"C:/Windows/Fonts/malgun.ttf\").get_name()\n",
    "rc('font', family=font_name)"
   ]
  },
  {
   "cell_type": "markdown",
   "metadata": {
    "school_cell_uuid": "7e210b26f053433b9cf9059a1f6a49c5"
   },
   "source": [
    "# matplotlib의 여러가지 플롯"
   ]
  },
  {
   "cell_type": "markdown",
   "metadata": {
    "school_cell_uuid": "39a825947a314b7598f195066bd64a39"
   },
   "source": [
    "matplotlib는 기본적인 라인 플롯 이외에도 다양한 챠트/플롯 유형을 지원한다."
   ]
  },
  {
   "cell_type": "markdown",
   "metadata": {
    "school_cell_uuid": "f078754f324b4649b332e699db94a9b7"
   },
   "source": [
    "## 바 차트"
   ]
  },
  {
   "cell_type": "markdown",
   "metadata": {
    "school_cell_uuid": "d4099823a1c24eeea92b8f8507819ead"
   },
   "source": [
    "x, y 데이터 중 하나가 카테고리 값인 경우에는 `bar` 명령과 `barh` 명령으로 바 차트(bar chart) 시각화를 할 수 있다. 가로 방향으로 바 차트를 그리려면 `barh` 명령을 사용한다.\n",
    "\n",
    "자세한 내용은 다음 웹사이트를 참조한다.\n",
    "\n",
    "* http://matplotlib.org/api/pyplot_api.html#matplotlib.pyplot.bar\n",
    "* http://matplotlib.org/api/pyplot_api.html#matplotlib.pyplot.barh"
   ]
  },
  {
   "cell_type": "markdown",
   "metadata": {
    "school_cell_uuid": "c99da6289f6f4202b95750a05816bc7d"
   },
   "source": [
    "바 차트 작성시 주의점은 첫번째 인수인 `left` 가 x축에서 바(bar)의 왼쪽 변의 위치를 나타낸다는 점이다. "
   ]
  },
  {
   "cell_type": "code",
   "execution_count": 5,
   "metadata": {
    "school_cell_uuid": "c1702f5103c34386a19d0f21121f8a2f"
   },
   "outputs": [
    {
     "data": {
      "image/png": "[encoded data removed]",
      "text/plain": [
       "<matplotlib.figure.Figure at 0x2a5001910f0>"
      ]
     },
     "metadata": {},
     "output_type": "display_data"
    }
   ],
   "source": [
    "y = [2, 3, 1]\n",
    "x = np.arange(len(y))\n",
    "xlabel = ['a', 'b', 'c']\n",
    "plt.bar(x, y)\n",
    "#plt.xticks(x, xlabel)\n",
    "plt.show()"
   ]
  },
  {
   "cell_type": "markdown",
   "metadata": {
    "school_cell_uuid": "00d3481cf45b4b06b3f7f0126eb0867a"
   },
   "source": [
    "`xerr` 인수나 `yerr` 인수를 지정하면 에러 바(error bar)를 추가할 수 있다. 여기에서 `alpha`는 투명도를 지정한다. 0이면 완전 투명, 1이면 완전 불투명이다."
   ]
  },
  {
   "cell_type": "code",
   "execution_count": 6,
   "metadata": {
    "school_cell_uuid": "b19ca9e3cabb43f7b879fab0b6e5e810"
   },
   "outputs": [
    {
     "data": {
      "image/png": "[encoded data removed]",
      "text/plain": [
       "<matplotlib.figure.Figure at 0x2a5001915f8>"
      ]
     },
     "metadata": {},
     "output_type": "display_data"
    }
   ],
   "source": [
    "people = (u'박근혜', u'정유라', u'정윤회', u'최순실', u'최태민')\n",
    "y_pos = np.arange(len(people))\n",
    "performance = 3 + 10 * np.random.rand(len(people))\n",
    "error = np.random.rand(len(people))\n",
    "#xerr - 에러 라인 \n",
    "plt.barh(y_pos, performance, xerr=error,  alpha=0.4) # alpha - 투명도 설정\n",
    "plt.yticks(y_pos, people)\n",
    "plt.xlabel(u'x 라벨')\n",
    "plt.show()"
   ]
  },
  {
   "cell_type": "markdown",
   "metadata": {
    "school_cell_uuid": "2f611da447d9427ca3d77dd12e2fdefe"
   },
   "source": [
    "두 개 이상의 바 차트를 한번에 그리는 경우도 있다."
   ]
  },
  {
   "cell_type": "code",
   "execution_count": 8,
   "metadata": {
    "school_cell_uuid": "260a7dddf1d84e9a8d3747b9474c7ec8"
   },
   "outputs": [
    {
     "data": {
      "image/png": "[encoded data removed]",
      "text/plain": [
       "<matplotlib.figure.Figure at 0x2a500669be0>"
      ]
     },
     "metadata": {},
     "output_type": "display_data"
    }
   ],
   "source": [
    "n_groups = 5\n",
    "means_men = (20, 35, 30, 35, 27)\n",
    "std_men = (2, 3, 4, 1, 2)\n",
    "means_women = (25, 32, 34, 20, 25)\n",
    "std_women = (3, 5, 2, 3, 3)\n",
    "\n",
    "fig, ax = plt.subplots()\n",
    "\n",
    "index = np.arange(n_groups)\n",
    "bar_width = 0.35\n",
    "\n",
    "opacity = 0.4\n",
    "error_config = {'ecolor': '0.3'}\n",
    "\n",
    "rects1 = plt.bar(index, means_men, bar_width,\n",
    "                 alpha=opacity,\n",
    "                 color='b',\n",
    "                 yerr=std_men,\n",
    "                 error_kw=error_config,\n",
    "                 label='Men',\n",
    "                 align='edge')\n",
    "\n",
    "rects2 = plt.bar(index + bar_width, means_women, bar_width,\n",
    "                 alpha=opacity,\n",
    "                 color='r',\n",
    "                 yerr=std_women,\n",
    "                 error_kw=error_config, # error_kw : 에러 선 투명도\n",
    "                 label='Women',\n",
    "                 align='edge')\n",
    "\n",
    "plt.xlabel('Group')\n",
    "plt.ylabel('Scores')\n",
    "plt.title('Scores by group and gender')\n",
    "plt.xticks(index + bar_width, ('A', 'B', 'C', 'D', 'E'))\n",
    "plt.legend()\n",
    "plt.tight_layout()\n",
    "plt.show()"
   ]
  },
  {
   "cell_type": "markdown",
   "metadata": {
    "school_cell_uuid": "0f04c756e3bc41a3b97b57c9bcfc751e"
   },
   "source": [
    "또는 `bottom` 인수로 바의 위치를 조정하여 겹친 바 차트(stacked bar chart)도 그릴 수 있다."
   ]
  },
  {
   "cell_type": "code",
   "execution_count": 9,
   "metadata": {
    "school_cell_uuid": "61dc6320b9534069a61c6103e6a3a998"
   },
   "outputs": [
    {
     "data": {
      "image/png": "[encoded data removed]",
      "text/plain": [
       "<matplotlib.figure.Figure at 0x2a5007b3a20>"
      ]
     },
     "metadata": {},
     "output_type": "display_data"
    }
   ],
   "source": [
    "N = 5\n",
    "menMeans = (20, 35, 30, 35, 27)\n",
    "womenMeans = (25, 32, 34, 20, 25)\n",
    "menStd = (2, 3, 4, 1, 2)\n",
    "womenStd = (3, 5, 2, 3, 3)\n",
    "ind = np.arange(N)    # the x locations for the groups\n",
    "width = 0.35       # the width of the bars: can also be len(x) sequence\n",
    "\n",
    "p1 = plt.bar(ind, menMeans, width, color='r', yerr=menStd)\n",
    "p2 = plt.bar(ind, womenMeans, width, color='y',\n",
    "             bottom=menMeans, yerr=womenStd)\n",
    "\n",
    "plt.ylabel('Scores')\n",
    "plt.title('Scores by group and gender')\n",
    "plt.xticks(ind, ('G1', 'G2', 'G3', 'G4', 'G5'))\n",
    "plt.yticks(np.arange(0, 81, 10))\n",
    "plt.legend((p1[0], p2[0]), ('Men', 'Women'))\n",
    "plt.show()"
   ]
  },
  {
   "cell_type": "markdown",
   "metadata": {
    "school_cell_uuid": "76092dd8c98b40c3bce89f77214da215"
   },
   "source": [
    "### 연습 문제 1\n",
    "\n",
    "여러분이 가진 데이터를 사용하여 bar plot을 그려보세요."
   ]
  },
  {
   "cell_type": "code",
   "execution_count": 16,
   "metadata": {},
   "outputs": [],
   "source": [
    "df = pd.read_csv(\"./서울특별시_자치구별_상권분석_정보_2017_.csv\", engine=\"python\")"
   ]
  },
  {
   "cell_type": "code",
   "execution_count": 18,
   "metadata": {
    "scrolled": true
   },
   "outputs": [
    {
     "data": {
      "text/html": [
       "<div>\n",
       "<style>\n",
       "    .dataframe thead tr:only-child th {\n",
       "        text-align: right;\n",
       "    }\n",
       "\n",
       "    .dataframe thead th {\n",
       "        text-align: left;\n",
       "    }\n",
       "\n",
       "    .dataframe tbody tr th {\n",
       "        vertical-align: top;\n",
       "    }\n",
       "</style>\n",
       "<table border=\"1\" class=\"dataframe\">\n",
       "  <thead>\n",
       "    <tr style=\"text-align: right;\">\n",
       "      <th></th>\n",
       "      <th>광역시도</th>\n",
       "      <th>시군구</th>\n",
       "      <th>업종대분류</th>\n",
       "      <th>업종중분류</th>\n",
       "      <th>업종소분류</th>\n",
       "      <th>건수</th>\n",
       "    </tr>\n",
       "  </thead>\n",
       "  <tbody>\n",
       "    <tr>\n",
       "      <th>0</th>\n",
       "      <td>서울특별시</td>\n",
       "      <td>강남구</td>\n",
       "      <td>학문/교육</td>\n",
       "      <td>학원-보습교습입시</td>\n",
       "      <td>학원-검정고시</td>\n",
       "      <td>2</td>\n",
       "    </tr>\n",
       "    <tr>\n",
       "      <th>1</th>\n",
       "      <td>서울특별시</td>\n",
       "      <td>강남구</td>\n",
       "      <td>학문/교육</td>\n",
       "      <td>학원-어학</td>\n",
       "      <td>학원-어린이영어</td>\n",
       "      <td>18</td>\n",
       "    </tr>\n",
       "    <tr>\n",
       "      <th>2</th>\n",
       "      <td>서울특별시</td>\n",
       "      <td>강남구</td>\n",
       "      <td>학문/교육</td>\n",
       "      <td>학원-어학</td>\n",
       "      <td>학원-외국어/어학</td>\n",
       "      <td>636</td>\n",
       "    </tr>\n",
       "    <tr>\n",
       "      <th>3</th>\n",
       "      <td>서울특별시</td>\n",
       "      <td>강남구</td>\n",
       "      <td>학문/교육</td>\n",
       "      <td>학원-보습교습입시</td>\n",
       "      <td>학원-입시</td>\n",
       "      <td>1173</td>\n",
       "    </tr>\n",
       "    <tr>\n",
       "      <th>4</th>\n",
       "      <td>서울특별시</td>\n",
       "      <td>강남구</td>\n",
       "      <td>학문/교육</td>\n",
       "      <td>학원-보습교습입시</td>\n",
       "      <td>학원-편입</td>\n",
       "      <td>3</td>\n",
       "    </tr>\n",
       "    <tr>\n",
       "      <th>5</th>\n",
       "      <td>서울특별시</td>\n",
       "      <td>강동구</td>\n",
       "      <td>학문/교육</td>\n",
       "      <td>학원-어학</td>\n",
       "      <td>학원-어린이영어</td>\n",
       "      <td>35</td>\n",
       "    </tr>\n",
       "    <tr>\n",
       "      <th>6</th>\n",
       "      <td>서울특별시</td>\n",
       "      <td>강동구</td>\n",
       "      <td>학문/교육</td>\n",
       "      <td>학원-어학</td>\n",
       "      <td>학원-외국어/어학</td>\n",
       "      <td>174</td>\n",
       "    </tr>\n",
       "    <tr>\n",
       "      <th>7</th>\n",
       "      <td>서울특별시</td>\n",
       "      <td>강동구</td>\n",
       "      <td>학문/교육</td>\n",
       "      <td>학원-보습교습입시</td>\n",
       "      <td>학원-입시</td>\n",
       "      <td>452</td>\n",
       "    </tr>\n",
       "    <tr>\n",
       "      <th>8</th>\n",
       "      <td>서울특별시</td>\n",
       "      <td>강북구</td>\n",
       "      <td>학문/교육</td>\n",
       "      <td>학원-어학</td>\n",
       "      <td>학원-어린이영어</td>\n",
       "      <td>3</td>\n",
       "    </tr>\n",
       "    <tr>\n",
       "      <th>9</th>\n",
       "      <td>서울특별시</td>\n",
       "      <td>강북구</td>\n",
       "      <td>학문/교육</td>\n",
       "      <td>학원-어학</td>\n",
       "      <td>학원-외국어/어학</td>\n",
       "      <td>48</td>\n",
       "    </tr>\n",
       "    <tr>\n",
       "      <th>10</th>\n",
       "      <td>서울특별시</td>\n",
       "      <td>강북구</td>\n",
       "      <td>학문/교육</td>\n",
       "      <td>학원-보습교습입시</td>\n",
       "      <td>학원-입시</td>\n",
       "      <td>126</td>\n",
       "    </tr>\n",
       "    <tr>\n",
       "      <th>11</th>\n",
       "      <td>서울특별시</td>\n",
       "      <td>강서구</td>\n",
       "      <td>학문/교육</td>\n",
       "      <td>학원-어학</td>\n",
       "      <td>학원-어린이영어</td>\n",
       "      <td>19</td>\n",
       "    </tr>\n",
       "    <tr>\n",
       "      <th>12</th>\n",
       "      <td>서울특별시</td>\n",
       "      <td>강서구</td>\n",
       "      <td>학문/교육</td>\n",
       "      <td>학원-어학</td>\n",
       "      <td>학원-외국어/어학</td>\n",
       "      <td>168</td>\n",
       "    </tr>\n",
       "    <tr>\n",
       "      <th>13</th>\n",
       "      <td>서울특별시</td>\n",
       "      <td>강서구</td>\n",
       "      <td>학문/교육</td>\n",
       "      <td>학원-보습교습입시</td>\n",
       "      <td>학원-입시</td>\n",
       "      <td>357</td>\n",
       "    </tr>\n",
       "    <tr>\n",
       "      <th>14</th>\n",
       "      <td>서울특별시</td>\n",
       "      <td>관악구</td>\n",
       "      <td>학문/교육</td>\n",
       "      <td>학원-보습교습입시</td>\n",
       "      <td>학원-검정고시</td>\n",
       "      <td>1</td>\n",
       "    </tr>\n",
       "    <tr>\n",
       "      <th>15</th>\n",
       "      <td>서울특별시</td>\n",
       "      <td>관악구</td>\n",
       "      <td>학문/교육</td>\n",
       "      <td>학원-어학</td>\n",
       "      <td>학원-어린이영어</td>\n",
       "      <td>16</td>\n",
       "    </tr>\n",
       "    <tr>\n",
       "      <th>16</th>\n",
       "      <td>서울특별시</td>\n",
       "      <td>관악구</td>\n",
       "      <td>학문/교육</td>\n",
       "      <td>학원-어학</td>\n",
       "      <td>학원-외국어/어학</td>\n",
       "      <td>137</td>\n",
       "    </tr>\n",
       "    <tr>\n",
       "      <th>17</th>\n",
       "      <td>서울특별시</td>\n",
       "      <td>관악구</td>\n",
       "      <td>학문/교육</td>\n",
       "      <td>학원-보습교습입시</td>\n",
       "      <td>학원-입시</td>\n",
       "      <td>306</td>\n",
       "    </tr>\n",
       "    <tr>\n",
       "      <th>18</th>\n",
       "      <td>서울특별시</td>\n",
       "      <td>광진구</td>\n",
       "      <td>학문/교육</td>\n",
       "      <td>학원-어학</td>\n",
       "      <td>학원-어린이영어</td>\n",
       "      <td>26</td>\n",
       "    </tr>\n",
       "    <tr>\n",
       "      <th>19</th>\n",
       "      <td>서울특별시</td>\n",
       "      <td>광진구</td>\n",
       "      <td>학문/교육</td>\n",
       "      <td>학원-어학</td>\n",
       "      <td>학원-외국어/어학</td>\n",
       "      <td>116</td>\n",
       "    </tr>\n",
       "    <tr>\n",
       "      <th>20</th>\n",
       "      <td>서울특별시</td>\n",
       "      <td>광진구</td>\n",
       "      <td>학문/교육</td>\n",
       "      <td>학원-보습교습입시</td>\n",
       "      <td>학원-입시</td>\n",
       "      <td>457</td>\n",
       "    </tr>\n",
       "    <tr>\n",
       "      <th>21</th>\n",
       "      <td>서울특별시</td>\n",
       "      <td>광진구</td>\n",
       "      <td>학문/교육</td>\n",
       "      <td>학원-보습교습입시</td>\n",
       "      <td>학원-편입</td>\n",
       "      <td>4</td>\n",
       "    </tr>\n",
       "    <tr>\n",
       "      <th>22</th>\n",
       "      <td>서울특별시</td>\n",
       "      <td>구로구</td>\n",
       "      <td>학문/교육</td>\n",
       "      <td>학원-어학</td>\n",
       "      <td>학원-어린이영어</td>\n",
       "      <td>13</td>\n",
       "    </tr>\n",
       "    <tr>\n",
       "      <th>23</th>\n",
       "      <td>서울특별시</td>\n",
       "      <td>구로구</td>\n",
       "      <td>학문/교육</td>\n",
       "      <td>학원-어학</td>\n",
       "      <td>학원-외국어/어학</td>\n",
       "      <td>133</td>\n",
       "    </tr>\n",
       "    <tr>\n",
       "      <th>24</th>\n",
       "      <td>서울특별시</td>\n",
       "      <td>구로구</td>\n",
       "      <td>학문/교육</td>\n",
       "      <td>학원-보습교습입시</td>\n",
       "      <td>학원-입시</td>\n",
       "      <td>259</td>\n",
       "    </tr>\n",
       "    <tr>\n",
       "      <th>25</th>\n",
       "      <td>서울특별시</td>\n",
       "      <td>금천구</td>\n",
       "      <td>학문/교육</td>\n",
       "      <td>학원-어학</td>\n",
       "      <td>학원-어린이영어</td>\n",
       "      <td>15</td>\n",
       "    </tr>\n",
       "    <tr>\n",
       "      <th>26</th>\n",
       "      <td>서울특별시</td>\n",
       "      <td>금천구</td>\n",
       "      <td>학문/교육</td>\n",
       "      <td>학원-어학</td>\n",
       "      <td>학원-외국어/어학</td>\n",
       "      <td>59</td>\n",
       "    </tr>\n",
       "    <tr>\n",
       "      <th>27</th>\n",
       "      <td>서울특별시</td>\n",
       "      <td>금천구</td>\n",
       "      <td>학문/교육</td>\n",
       "      <td>학원-보습교습입시</td>\n",
       "      <td>학원-입시</td>\n",
       "      <td>162</td>\n",
       "    </tr>\n",
       "    <tr>\n",
       "      <th>28</th>\n",
       "      <td>서울특별시</td>\n",
       "      <td>노원구</td>\n",
       "      <td>학문/교육</td>\n",
       "      <td>학원-어학</td>\n",
       "      <td>학원-어린이영어</td>\n",
       "      <td>11</td>\n",
       "    </tr>\n",
       "    <tr>\n",
       "      <th>29</th>\n",
       "      <td>서울특별시</td>\n",
       "      <td>노원구</td>\n",
       "      <td>학문/교육</td>\n",
       "      <td>학원-어학</td>\n",
       "      <td>학원-외국어/어학</td>\n",
       "      <td>223</td>\n",
       "    </tr>\n",
       "    <tr>\n",
       "      <th>...</th>\n",
       "      <td>...</td>\n",
       "      <td>...</td>\n",
       "      <td>...</td>\n",
       "      <td>...</td>\n",
       "      <td>...</td>\n",
       "      <td>...</td>\n",
       "    </tr>\n",
       "    <tr>\n",
       "      <th>303</th>\n",
       "      <td>서울특별시</td>\n",
       "      <td>마포구</td>\n",
       "      <td>학문/교육</td>\n",
       "      <td>학원-예능취미체육</td>\n",
       "      <td>학원-배우/탤런트</td>\n",
       "      <td>6</td>\n",
       "    </tr>\n",
       "    <tr>\n",
       "      <th>304</th>\n",
       "      <td>서울특별시</td>\n",
       "      <td>서대문구</td>\n",
       "      <td>학문/교육</td>\n",
       "      <td>학원-음악미술무용</td>\n",
       "      <td>학원-무용</td>\n",
       "      <td>2</td>\n",
       "    </tr>\n",
       "    <tr>\n",
       "      <th>305</th>\n",
       "      <td>서울특별시</td>\n",
       "      <td>서대문구</td>\n",
       "      <td>학문/교육</td>\n",
       "      <td>학원-예능취미체육</td>\n",
       "      <td>학원-배우/탤런트</td>\n",
       "      <td>1</td>\n",
       "    </tr>\n",
       "    <tr>\n",
       "      <th>306</th>\n",
       "      <td>서울특별시</td>\n",
       "      <td>서초구</td>\n",
       "      <td>학문/교육</td>\n",
       "      <td>학원-예능취미체육</td>\n",
       "      <td>학원-가요</td>\n",
       "      <td>4</td>\n",
       "    </tr>\n",
       "    <tr>\n",
       "      <th>307</th>\n",
       "      <td>서울특별시</td>\n",
       "      <td>서초구</td>\n",
       "      <td>학문/교육</td>\n",
       "      <td>학원-음악미술무용</td>\n",
       "      <td>학원-무용</td>\n",
       "      <td>15</td>\n",
       "    </tr>\n",
       "    <tr>\n",
       "      <th>308</th>\n",
       "      <td>서울특별시</td>\n",
       "      <td>서초구</td>\n",
       "      <td>학문/교육</td>\n",
       "      <td>학원-예능취미체육</td>\n",
       "      <td>학원-배우/탤런트</td>\n",
       "      <td>10</td>\n",
       "    </tr>\n",
       "    <tr>\n",
       "      <th>309</th>\n",
       "      <td>서울특별시</td>\n",
       "      <td>성동구</td>\n",
       "      <td>학문/교육</td>\n",
       "      <td>학원-예능취미체육</td>\n",
       "      <td>학원-가요</td>\n",
       "      <td>1</td>\n",
       "    </tr>\n",
       "    <tr>\n",
       "      <th>310</th>\n",
       "      <td>서울특별시</td>\n",
       "      <td>성동구</td>\n",
       "      <td>학문/교육</td>\n",
       "      <td>학원-음악미술무용</td>\n",
       "      <td>학원-무용</td>\n",
       "      <td>4</td>\n",
       "    </tr>\n",
       "    <tr>\n",
       "      <th>311</th>\n",
       "      <td>서울특별시</td>\n",
       "      <td>성동구</td>\n",
       "      <td>학문/교육</td>\n",
       "      <td>학원-예능취미체육</td>\n",
       "      <td>학원-배우/탤런트</td>\n",
       "      <td>3</td>\n",
       "    </tr>\n",
       "    <tr>\n",
       "      <th>312</th>\n",
       "      <td>서울특별시</td>\n",
       "      <td>성북구</td>\n",
       "      <td>학문/교육</td>\n",
       "      <td>학원-예능취미체육</td>\n",
       "      <td>학원-가요</td>\n",
       "      <td>2</td>\n",
       "    </tr>\n",
       "    <tr>\n",
       "      <th>313</th>\n",
       "      <td>서울특별시</td>\n",
       "      <td>성북구</td>\n",
       "      <td>학문/교육</td>\n",
       "      <td>학원-음악미술무용</td>\n",
       "      <td>학원-무용</td>\n",
       "      <td>9</td>\n",
       "    </tr>\n",
       "    <tr>\n",
       "      <th>314</th>\n",
       "      <td>서울특별시</td>\n",
       "      <td>성북구</td>\n",
       "      <td>학문/교육</td>\n",
       "      <td>학원-예능취미체육</td>\n",
       "      <td>학원-배우/탤런트</td>\n",
       "      <td>1</td>\n",
       "    </tr>\n",
       "    <tr>\n",
       "      <th>315</th>\n",
       "      <td>서울특별시</td>\n",
       "      <td>송파구</td>\n",
       "      <td>학문/교육</td>\n",
       "      <td>학원-예능취미체육</td>\n",
       "      <td>학원-가요</td>\n",
       "      <td>1</td>\n",
       "    </tr>\n",
       "    <tr>\n",
       "      <th>316</th>\n",
       "      <td>서울특별시</td>\n",
       "      <td>송파구</td>\n",
       "      <td>학문/교육</td>\n",
       "      <td>학원-음악미술무용</td>\n",
       "      <td>학원-무용</td>\n",
       "      <td>18</td>\n",
       "    </tr>\n",
       "    <tr>\n",
       "      <th>317</th>\n",
       "      <td>서울특별시</td>\n",
       "      <td>송파구</td>\n",
       "      <td>학문/교육</td>\n",
       "      <td>학원-예능취미체육</td>\n",
       "      <td>학원-배우/탤런트</td>\n",
       "      <td>8</td>\n",
       "    </tr>\n",
       "    <tr>\n",
       "      <th>318</th>\n",
       "      <td>서울특별시</td>\n",
       "      <td>양천구</td>\n",
       "      <td>학문/교육</td>\n",
       "      <td>학원-예능취미체육</td>\n",
       "      <td>학원-가요</td>\n",
       "      <td>1</td>\n",
       "    </tr>\n",
       "    <tr>\n",
       "      <th>319</th>\n",
       "      <td>서울특별시</td>\n",
       "      <td>양천구</td>\n",
       "      <td>학문/교육</td>\n",
       "      <td>학원-음악미술무용</td>\n",
       "      <td>학원-무용</td>\n",
       "      <td>12</td>\n",
       "    </tr>\n",
       "    <tr>\n",
       "      <th>320</th>\n",
       "      <td>서울특별시</td>\n",
       "      <td>양천구</td>\n",
       "      <td>학문/교육</td>\n",
       "      <td>학원-예능취미체육</td>\n",
       "      <td>학원-배우/탤런트</td>\n",
       "      <td>6</td>\n",
       "    </tr>\n",
       "    <tr>\n",
       "      <th>321</th>\n",
       "      <td>서울특별시</td>\n",
       "      <td>영등포구</td>\n",
       "      <td>학문/교육</td>\n",
       "      <td>학원-음악미술무용</td>\n",
       "      <td>학원-무용</td>\n",
       "      <td>10</td>\n",
       "    </tr>\n",
       "    <tr>\n",
       "      <th>322</th>\n",
       "      <td>서울특별시</td>\n",
       "      <td>영등포구</td>\n",
       "      <td>학문/교육</td>\n",
       "      <td>학원-예능취미체육</td>\n",
       "      <td>학원-배우/탤런트</td>\n",
       "      <td>1</td>\n",
       "    </tr>\n",
       "    <tr>\n",
       "      <th>323</th>\n",
       "      <td>서울특별시</td>\n",
       "      <td>용산구</td>\n",
       "      <td>학문/교육</td>\n",
       "      <td>학원-예능취미체육</td>\n",
       "      <td>학원-가요</td>\n",
       "      <td>1</td>\n",
       "    </tr>\n",
       "    <tr>\n",
       "      <th>324</th>\n",
       "      <td>서울특별시</td>\n",
       "      <td>용산구</td>\n",
       "      <td>학문/교육</td>\n",
       "      <td>학원-음악미술무용</td>\n",
       "      <td>학원-무용</td>\n",
       "      <td>4</td>\n",
       "    </tr>\n",
       "    <tr>\n",
       "      <th>325</th>\n",
       "      <td>서울특별시</td>\n",
       "      <td>용산구</td>\n",
       "      <td>학문/교육</td>\n",
       "      <td>학원-예능취미체육</td>\n",
       "      <td>학원-배우/탤런트</td>\n",
       "      <td>1</td>\n",
       "    </tr>\n",
       "    <tr>\n",
       "      <th>326</th>\n",
       "      <td>서울특별시</td>\n",
       "      <td>은평구</td>\n",
       "      <td>학문/교육</td>\n",
       "      <td>학원-음악미술무용</td>\n",
       "      <td>학원-무용</td>\n",
       "      <td>2</td>\n",
       "    </tr>\n",
       "    <tr>\n",
       "      <th>327</th>\n",
       "      <td>서울특별시</td>\n",
       "      <td>종로구</td>\n",
       "      <td>학문/교육</td>\n",
       "      <td>학원-예능취미체육</td>\n",
       "      <td>학원-가요</td>\n",
       "      <td>2</td>\n",
       "    </tr>\n",
       "    <tr>\n",
       "      <th>328</th>\n",
       "      <td>서울특별시</td>\n",
       "      <td>종로구</td>\n",
       "      <td>학문/교육</td>\n",
       "      <td>학원-음악미술무용</td>\n",
       "      <td>학원-무용</td>\n",
       "      <td>5</td>\n",
       "    </tr>\n",
       "    <tr>\n",
       "      <th>329</th>\n",
       "      <td>서울특별시</td>\n",
       "      <td>중구</td>\n",
       "      <td>학문/교육</td>\n",
       "      <td>학원-예능취미체육</td>\n",
       "      <td>학원-가요</td>\n",
       "      <td>3</td>\n",
       "    </tr>\n",
       "    <tr>\n",
       "      <th>330</th>\n",
       "      <td>서울특별시</td>\n",
       "      <td>중구</td>\n",
       "      <td>학문/교육</td>\n",
       "      <td>학원-음악미술무용</td>\n",
       "      <td>학원-무용</td>\n",
       "      <td>5</td>\n",
       "    </tr>\n",
       "    <tr>\n",
       "      <th>331</th>\n",
       "      <td>서울특별시</td>\n",
       "      <td>중랑구</td>\n",
       "      <td>학문/교육</td>\n",
       "      <td>학원-음악미술무용</td>\n",
       "      <td>학원-무용</td>\n",
       "      <td>2</td>\n",
       "    </tr>\n",
       "    <tr>\n",
       "      <th>332</th>\n",
       "      <td>서울특별시</td>\n",
       "      <td>중랑구</td>\n",
       "      <td>학문/교육</td>\n",
       "      <td>학원-예능취미체육</td>\n",
       "      <td>학원-배우/탤런트</td>\n",
       "      <td>1</td>\n",
       "    </tr>\n",
       "  </tbody>\n",
       "</table>\n",
       "<p>333 rows × 6 columns</p>\n",
       "</div>"
      ],
      "text/plain": [
       "      광역시도   시군구  업종대분류      업종중분류      업종소분류    건수\n",
       "0    서울특별시   강남구  학문/교육  학원-보습교습입시    학원-검정고시     2\n",
       "1    서울특별시   강남구  학문/교육      학원-어학   학원-어린이영어    18\n",
       "2    서울특별시   강남구  학문/교육      학원-어학  학원-외국어/어학   636\n",
       "3    서울특별시   강남구  학문/교육  학원-보습교습입시      학원-입시  1173\n",
       "4    서울특별시   강남구  학문/교육  학원-보습교습입시      학원-편입     3\n",
       "5    서울특별시   강동구  학문/교육      학원-어학   학원-어린이영어    35\n",
       "6    서울특별시   강동구  학문/교육      학원-어학  학원-외국어/어학   174\n",
       "7    서울특별시   강동구  학문/교육  학원-보습교습입시      학원-입시   452\n",
       "8    서울특별시   강북구  학문/교육      학원-어학   학원-어린이영어     3\n",
       "9    서울특별시   강북구  학문/교육      학원-어학  학원-외국어/어학    48\n",
       "10   서울특별시   강북구  학문/교육  학원-보습교습입시      학원-입시   126\n",
       "11   서울특별시   강서구  학문/교육      학원-어학   학원-어린이영어    19\n",
       "12   서울특별시   강서구  학문/교육      학원-어학  학원-외국어/어학   168\n",
       "13   서울특별시   강서구  학문/교육  학원-보습교습입시      학원-입시   357\n",
       "14   서울특별시   관악구  학문/교육  학원-보습교습입시    학원-검정고시     1\n",
       "15   서울특별시   관악구  학문/교육      학원-어학   학원-어린이영어    16\n",
       "16   서울특별시   관악구  학문/교육      학원-어학  학원-외국어/어학   137\n",
       "17   서울특별시   관악구  학문/교육  학원-보습교습입시      학원-입시   306\n",
       "18   서울특별시   광진구  학문/교육      학원-어학   학원-어린이영어    26\n",
       "19   서울특별시   광진구  학문/교육      학원-어학  학원-외국어/어학   116\n",
       "20   서울특별시   광진구  학문/교육  학원-보습교습입시      학원-입시   457\n",
       "21   서울특별시   광진구  학문/교육  학원-보습교습입시      학원-편입     4\n",
       "22   서울특별시   구로구  학문/교육      학원-어학   학원-어린이영어    13\n",
       "23   서울특별시   구로구  학문/교육      학원-어학  학원-외국어/어학   133\n",
       "24   서울특별시   구로구  학문/교육  학원-보습교습입시      학원-입시   259\n",
       "25   서울특별시   금천구  학문/교육      학원-어학   학원-어린이영어    15\n",
       "26   서울특별시   금천구  학문/교육      학원-어학  학원-외국어/어학    59\n",
       "27   서울특별시   금천구  학문/교육  학원-보습교습입시      학원-입시   162\n",
       "28   서울특별시   노원구  학문/교육      학원-어학   학원-어린이영어    11\n",
       "29   서울특별시   노원구  학문/교육      학원-어학  학원-외국어/어학   223\n",
       "..     ...   ...    ...        ...        ...   ...\n",
       "303  서울특별시   마포구  학문/교육  학원-예능취미체육  학원-배우/탤런트     6\n",
       "304  서울특별시  서대문구  학문/교육  학원-음악미술무용      학원-무용     2\n",
       "305  서울특별시  서대문구  학문/교육  학원-예능취미체육  학원-배우/탤런트     1\n",
       "306  서울특별시   서초구  학문/교육  학원-예능취미체육      학원-가요     4\n",
       "307  서울특별시   서초구  학문/교육  학원-음악미술무용      학원-무용    15\n",
       "308  서울특별시   서초구  학문/교육  학원-예능취미체육  학원-배우/탤런트    10\n",
       "309  서울특별시   성동구  학문/교육  학원-예능취미체육      학원-가요     1\n",
       "310  서울특별시   성동구  학문/교육  학원-음악미술무용      학원-무용     4\n",
       "311  서울특별시   성동구  학문/교육  학원-예능취미체육  학원-배우/탤런트     3\n",
       "312  서울특별시   성북구  학문/교육  학원-예능취미체육      학원-가요     2\n",
       "313  서울특별시   성북구  학문/교육  학원-음악미술무용      학원-무용     9\n",
       "314  서울특별시   성북구  학문/교육  학원-예능취미체육  학원-배우/탤런트     1\n",
       "315  서울특별시   송파구  학문/교육  학원-예능취미체육      학원-가요     1\n",
       "316  서울특별시   송파구  학문/교육  학원-음악미술무용      학원-무용    18\n",
       "317  서울특별시   송파구  학문/교육  학원-예능취미체육  학원-배우/탤런트     8\n",
       "318  서울특별시   양천구  학문/교육  학원-예능취미체육      학원-가요     1\n",
       "319  서울특별시   양천구  학문/교육  학원-음악미술무용      학원-무용    12\n",
       "320  서울특별시   양천구  학문/교육  학원-예능취미체육  학원-배우/탤런트     6\n",
       "321  서울특별시  영등포구  학문/교육  학원-음악미술무용      학원-무용    10\n",
       "322  서울특별시  영등포구  학문/교육  학원-예능취미체육  학원-배우/탤런트     1\n",
       "323  서울특별시   용산구  학문/교육  학원-예능취미체육      학원-가요     1\n",
       "324  서울특별시   용산구  학문/교육  학원-음악미술무용      학원-무용     4\n",
       "325  서울특별시   용산구  학문/교육  학원-예능취미체육  학원-배우/탤런트     1\n",
       "326  서울특별시   은평구  학문/교육  학원-음악미술무용      학원-무용     2\n",
       "327  서울특별시   종로구  학문/교육  학원-예능취미체육      학원-가요     2\n",
       "328  서울특별시   종로구  학문/교육  학원-음악미술무용      학원-무용     5\n",
       "329  서울특별시    중구  학문/교육  학원-예능취미체육      학원-가요     3\n",
       "330  서울특별시    중구  학문/교육  학원-음악미술무용      학원-무용     5\n",
       "331  서울특별시   중랑구  학문/교육  학원-음악미술무용      학원-무용     2\n",
       "332  서울특별시   중랑구  학문/교육  학원-예능취미체육  학원-배우/탤런트     1\n",
       "\n",
       "[333 rows x 6 columns]"
      ]
     },
     "execution_count": 18,
     "metadata": {},
     "output_type": "execute_result"
    }
   ],
   "source": [
    "df"
   ]
  },
  {
   "cell_type": "code",
   "execution_count": 19,
   "metadata": {
    "scrolled": true
   },
   "outputs": [
    {
     "name": "stdout",
     "output_type": "stream",
     "text": [
      "<class 'pandas.core.frame.DataFrame'>\n",
      "RangeIndex: 333 entries, 0 to 332\n",
      "Data columns (total 6 columns):\n",
      "광역시도     333 non-null object\n",
      "시군구      333 non-null object\n",
      "업종대분류    333 non-null object\n",
      "업종중분류    333 non-null object\n",
      "업종소분류    333 non-null object\n",
      "건수       333 non-null int64\n",
      "dtypes: int64(1), object(5)\n",
      "memory usage: 15.7+ KB\n"
     ]
    }
   ],
   "source": [
    "df.info()"
   ]
  },
  {
   "cell_type": "code",
   "execution_count": 22,
   "metadata": {},
   "outputs": [
    {
     "data": {
      "text/html": [
       "<div>\n",
       "<style>\n",
       "    .dataframe thead tr:only-child th {\n",
       "        text-align: right;\n",
       "    }\n",
       "\n",
       "    .dataframe thead th {\n",
       "        text-align: left;\n",
       "    }\n",
       "\n",
       "    .dataframe tbody tr th {\n",
       "        vertical-align: top;\n",
       "    }\n",
       "</style>\n",
       "<table border=\"1\" class=\"dataframe\">\n",
       "  <thead>\n",
       "    <tr style=\"text-align: right;\">\n",
       "      <th></th>\n",
       "      <th>건수</th>\n",
       "    </tr>\n",
       "  </thead>\n",
       "  <tbody>\n",
       "    <tr>\n",
       "      <th>count</th>\n",
       "      <td>333.000000</td>\n",
       "    </tr>\n",
       "    <tr>\n",
       "      <th>mean</th>\n",
       "      <td>65.636637</td>\n",
       "    </tr>\n",
       "    <tr>\n",
       "      <th>std</th>\n",
       "      <td>129.555624</td>\n",
       "    </tr>\n",
       "    <tr>\n",
       "      <th>min</th>\n",
       "      <td>1.000000</td>\n",
       "    </tr>\n",
       "    <tr>\n",
       "      <th>25%</th>\n",
       "      <td>3.000000</td>\n",
       "    </tr>\n",
       "    <tr>\n",
       "      <th>50%</th>\n",
       "      <td>8.000000</td>\n",
       "    </tr>\n",
       "    <tr>\n",
       "      <th>75%</th>\n",
       "      <td>85.000000</td>\n",
       "    </tr>\n",
       "    <tr>\n",
       "      <th>max</th>\n",
       "      <td>1173.000000</td>\n",
       "    </tr>\n",
       "  </tbody>\n",
       "</table>\n",
       "</div>"
      ],
      "text/plain": [
       "                건수\n",
       "count   333.000000\n",
       "mean     65.636637\n",
       "std     129.555624\n",
       "min       1.000000\n",
       "25%       3.000000\n",
       "50%       8.000000\n",
       "75%      85.000000\n",
       "max    1173.000000"
      ]
     },
     "execution_count": 22,
     "metadata": {},
     "output_type": "execute_result"
    }
   ],
   "source": [
    "df.describe()"
   ]
  },
  {
   "cell_type": "code",
   "execution_count": 24,
   "metadata": {},
   "outputs": [
    {
     "data": {
      "text/plain": [
       "0        학원-검정고시\n",
       "1       학원-어린이영어\n",
       "2      학원-외국어/어학\n",
       "3          학원-입시\n",
       "4          학원-편입\n",
       "5       학원-어린이영어\n",
       "6      학원-외국어/어학\n",
       "7          학원-입시\n",
       "8       학원-어린이영어\n",
       "9      학원-외국어/어학\n",
       "10         학원-입시\n",
       "11      학원-어린이영어\n",
       "12     학원-외국어/어학\n",
       "13         학원-입시\n",
       "14       학원-검정고시\n",
       "15      학원-어린이영어\n",
       "16     학원-외국어/어학\n",
       "17         학원-입시\n",
       "18      학원-어린이영어\n",
       "19     학원-외국어/어학\n",
       "20         학원-입시\n",
       "21         학원-편입\n",
       "22      학원-어린이영어\n",
       "23     학원-외국어/어학\n",
       "24         학원-입시\n",
       "25      학원-어린이영어\n",
       "26     학원-외국어/어학\n",
       "27         학원-입시\n",
       "28      학원-어린이영어\n",
       "29     학원-외국어/어학\n",
       "         ...    \n",
       "303    학원-배우/탤런트\n",
       "304        학원-무용\n",
       "305    학원-배우/탤런트\n",
       "306        학원-가요\n",
       "307        학원-무용\n",
       "308    학원-배우/탤런트\n",
       "309        학원-가요\n",
       "310        학원-무용\n",
       "311    학원-배우/탤런트\n",
       "312        학원-가요\n",
       "313        학원-무용\n",
       "314    학원-배우/탤런트\n",
       "315        학원-가요\n",
       "316        학원-무용\n",
       "317    학원-배우/탤런트\n",
       "318        학원-가요\n",
       "319        학원-무용\n",
       "320    학원-배우/탤런트\n",
       "321        학원-무용\n",
       "322    학원-배우/탤런트\n",
       "323        학원-가요\n",
       "324        학원-무용\n",
       "325    학원-배우/탤런트\n",
       "326        학원-무용\n",
       "327        학원-가요\n",
       "328        학원-무용\n",
       "329        학원-가요\n",
       "330        학원-무용\n",
       "331        학원-무용\n",
       "332    학원-배우/탤런트\n",
       "Name: 업종소분류, Length: 333, dtype: object"
      ]
     },
     "execution_count": 24,
     "metadata": {},
     "output_type": "execute_result"
    }
   ],
   "source": [
    "df[\"업종소분류\"]"
   ]
  },
  {
   "cell_type": "code",
   "execution_count": 37,
   "metadata": {
    "collapsed": true
   },
   "outputs": [],
   "source": [
    "x=np.arange(len(df[\"건수\"]))"
   ]
  },
  {
   "cell_type": "code",
   "execution_count": 38,
   "metadata": {},
   "outputs": [
    {
     "data": {
      "image/png": "[encoded data removed]",
      "text/plain": [
       "<matplotlib.figure.Figure at 0x2a501d3a278>"
      ]
     },
     "metadata": {},
     "output_type": "display_data"
    }
   ],
   "source": [
    "plt.bar(x,df[\"업종소분류\"])\n",
    "plt.title(\"상권분석\")\n",
    "plt.xlabel(\"건수\")\n",
    "plt.ylabel(\"상권\")\n",
    "plt.xticks(x,df[\"업종대분류\"])\n",
    "plt.show()"
   ]
  },
  {
   "cell_type": "markdown",
   "metadata": {
    "school_cell_uuid": "7b0aef03173742ad84d418c093d52b7d"
   },
   "source": [
    "## 파이 차트"
   ]
  },
  {
   "cell_type": "markdown",
   "metadata": {
    "school_cell_uuid": "8499ba56359846f98ea28ff282d30286"
   },
   "source": [
    "카테고리 별 값의 상대적인 비교를 해야 할 때는 `pie` 명령으로 파이 차트(pie chart)를 그릴 수 있다.\n",
    "\n",
    "* http://matplotlib.org/api/pyplot_api.html#matplotlib.pyplot.pie"
   ]
  },
  {
   "cell_type": "code",
   "execution_count": 49,
   "metadata": {
    "school_cell_uuid": "dc28214216354edabeb7bbf0b4dca0db"
   },
   "outputs": [
    {
     "data": {
      "image/png": "[encoded data removed]",
      "text/plain": [
       "<matplotlib.figure.Figure at 0x2a502966b70>"
      ]
     },
     "metadata": {},
     "output_type": "display_data"
    }
   ],
   "source": [
    "labels = u'개구리', u'돼지', u'개', u'통나무'\n",
    "sizes = [15, 30, 45, 10]\n",
    "colors = ['yellowgreen', 'gold', 'lightskyblue', 'lightcoral']\n",
    "explode = (0, 0.1, 0, 0)\n",
    "plt.pie(sizes, explode=explode, labels=labels, colors=colors,\n",
    "        autopct='%1.0f%%', shadow=True, startangle=100)\n",
    "plt.axis('equal')\n",
    "plt.show()"
   ]
  },
  {
   "cell_type": "markdown",
   "metadata": {
    "school_cell_uuid": "1622c0860c724a0089ee0b4b4eb94b01"
   },
   "source": [
    "### 연습 문제 2\n",
    "\n",
    "여러분이 가진 데이터를 사용하여 파이차트를 그려보세요"
   ]
  },
  {
   "cell_type": "markdown",
   "metadata": {
    "school_cell_uuid": "92f25c8b6f2241338737e43061a266b8"
   },
   "source": [
    "## 히스토그램"
   ]
  },
  {
   "cell_type": "markdown",
   "metadata": {
    "school_cell_uuid": "43904ad951eb4f68bdc180156f53468f"
   },
   "source": [
    "히스토그램을 그리기 위한 `hist` 명령도 제공한다. `hist` 명령은 `bins` 인수로 데이터 집계 구간을 받는다. 또한 반환값으로 데이터 집계 결과를 반환해주므로 이 결과를 다른 코드에서 사용할 수도 있다.\n",
    "\n",
    "* http://matplotlib.org/api/pyplot_api.html#matplotlib.pyplot.hist"
   ]
  },
  {
   "cell_type": "code",
   "execution_count": 50,
   "metadata": {
    "school_cell_uuid": "53347bc9678140deaaa4f45a23f579e7"
   },
   "outputs": [
    {
     "data": {
      "image/png": "[encoded data removed]",
      "text/plain": [
       "<matplotlib.figure.Figure at 0x2a502049860>"
      ]
     },
     "metadata": {},
     "output_type": "display_data"
    }
   ],
   "source": [
    "x = np.random.randn(5000)\n",
    "plt.hist(x, bins=50)\n",
    "plt.show()"
   ]
  },
  {
   "cell_type": "markdown",
   "metadata": {
    "school_cell_uuid": "7519997ce40246c69c8e3666cef67369"
   },
   "source": [
    "## 스캐터 플롯"
   ]
  },
  {
   "cell_type": "markdown",
   "metadata": {
    "school_cell_uuid": "832c66e93982410a86118dde99664b25"
   },
   "source": [
    "두 개의 데이터 집합, 예를 들면 두 벡터의 상관관계를 살펴보려면 `scatter` 명령으로 스캐터 플롯을 그린다.\n",
    "\n",
    "* http://matplotlib.org/api/pyplot_api.html#matplotlib.pyplot.scatter"
   ]
  },
  {
   "cell_type": "code",
   "execution_count": 51,
   "metadata": {
    "school_cell_uuid": "104a69210b174b939a419f6aac96c2ca",
    "scrolled": false
   },
   "outputs": [
    {
     "data": {
      "image/png": "[encoded data removed]",
      "text/plain": [
       "<matplotlib.figure.Figure at 0x2a500402cf8>"
      ]
     },
     "metadata": {},
     "output_type": "display_data"
    }
   ],
   "source": [
    "X = np.random.normal(0,1,1024)\n",
    "Y = np.random.normal(0,1,1024)\n",
    "plt.scatter(X,Y)\n",
    "plt.show()"
   ]
  },
  {
   "cell_type": "code",
   "execution_count": 52,
   "metadata": {
    "school_cell_uuid": "2fe853aefcc94a31a44cfd762e795e6b"
   },
   "outputs": [
    {
     "data": {
      "image/png": "[encoded data removed]",
      "text/plain": [
       "<matplotlib.figure.Figure at 0x2a5000a8390>"
      ]
     },
     "metadata": {},
     "output_type": "display_data"
    }
   ],
   "source": [
    "N = 50\n",
    "x = np.random.rand(N)\n",
    "y = np.random.rand(N)\n",
    "colors = np.random.rand(N)\n",
    "\n",
    "area = np.pi * (15 * np.random.rand(N))**2 \n",
    "plt.scatter(x, y, s=area, c=colors, alpha=0.5)\n",
    "plt.show()"
   ]
  },
  {
   "cell_type": "markdown",
   "metadata": {
    "school_cell_uuid": "f762823dacf6486f8ed460c472c72eba"
   },
   "source": [
    "## Imshow"
   ]
  },
  {
   "cell_type": "markdown",
   "metadata": {
    "school_cell_uuid": "b6fcabf0e6164a17b29db3e95a04e53c"
   },
   "source": [
    "지금 까지는 1개 혹은 2개의 1차원 자료에 대한 시각화를 살펴보았다. 이제는 행과 열을 가진 2차원 데이터의 시각화에 대해 알아본다. \n",
    "예를 들어 화상(image) 데이터는 전형적인 2차원 자료이다. \n",
    "\n",
    "가장 간단한 2차원 자료 시각화 방법은 `imshow` 명령을 써서 2차원 자료 자체를 각 위치의 명암으로 표시하는 것이다. 자료의 시각화를 돕기위해 다양한 2차원 인터폴레이션을 지원한다.\n",
    "\n",
    "* http://matplotlib.org/api/pyplot_api.html#matplotlib.pyplot.imshow\n"
   ]
  },
  {
   "cell_type": "code",
   "execution_count": 53,
   "metadata": {
    "school_cell_uuid": "a6303126da8949ffb756cd7ee68ea530"
   },
   "outputs": [
    {
     "data": {
      "text/plain": [
       "array([[  0.,   0.,   5.,  13.,   9.,   1.,   0.,   0.],\n",
       "       [  0.,   0.,  13.,  15.,  10.,  15.,   5.,   0.],\n",
       "       [  0.,   3.,  15.,   2.,   0.,  11.,   8.,   0.],\n",
       "       [  0.,   4.,  12.,   0.,   0.,   8.,   8.,   0.],\n",
       "       [  0.,   5.,   8.,   0.,   0.,   9.,   8.,   0.],\n",
       "       [  0.,   4.,  11.,   0.,   1.,  12.,   7.,   0.],\n",
       "       [  0.,   2.,  14.,   5.,  10.,  12.,   0.,   0.],\n",
       "       [  0.,   0.,   6.,  13.,  10.,   0.,   0.,   0.]])"
      ]
     },
     "execution_count": 53,
     "metadata": {},
     "output_type": "execute_result"
    }
   ],
   "source": [
    "from sklearn.datasets import load_digits\n",
    "digits = load_digits()\n",
    "X = digits.images[0]\n",
    "X"
   ]
  },
  {
   "cell_type": "code",
   "execution_count": null,
   "metadata": {
    "collapsed": true,
    "school_cell_uuid": "ee6af5827344400cb62d4c8df31ff4c5"
   },
   "outputs": [],
   "source": [
    "plt.imshow(X, interpolation='nearest');\n",
    "plt.grid(False)\n",
    "plt.show()"
   ]
  },
  {
   "cell_type": "code",
   "execution_count": null,
   "metadata": {
    "collapsed": true,
    "school_cell_uuid": "96f47c28b7644232a3c1c7d9921ef485"
   },
   "outputs": [],
   "source": [
    "methods = [None, 'none', 'nearest', 'bilinear', 'bicubic', 'spline16',\n",
    "           'spline36', 'hanning', 'hamming', 'hermite', 'kaiser', 'quadric',\n",
    "           'catrom', 'gaussian', 'bessel', 'mitchell', 'sinc', 'lanczos']\n",
    "fig, axes = plt.subplots(3, 6, figsize=(12, 6), subplot_kw={'xticks': [], 'yticks': []})\n",
    "fig.subplots_adjust(hspace=0.3, wspace=0.05)\n",
    "for ax, interp_method in zip(axes.flat, methods):\n",
    "    ax.imshow(X, interpolation=interp_method)\n",
    "    ax.set_title(interp_method)\n",
    "plt.show()"
   ]
  }
 ],
 "metadata": {
  "kernelspec": {
   "display_name": "Python 3",
   "language": "python",
   "name": "python3"
  },
  "language_info": {
   "codemirror_mode": {
    "name": "ipython",
    "version": 3
   },
   "file_extension": ".py",
   "mimetype": "text/x-python",
   "name": "python",
   "nbconvert_exporter": "python",
   "pygments_lexer": "ipython3",
   "version": "3.6.3"
  }
 },
 "nbformat": 4,
 "nbformat_minor": 1
}
