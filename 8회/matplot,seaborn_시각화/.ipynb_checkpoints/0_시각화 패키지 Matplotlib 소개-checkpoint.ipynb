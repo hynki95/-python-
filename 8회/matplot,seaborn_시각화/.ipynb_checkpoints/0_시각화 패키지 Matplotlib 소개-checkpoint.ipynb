{
 "cells": [
  {
   "cell_type": "markdown",
   "metadata": {
    "school_cell_uuid": "4ec1dba0d165424e821c5028c9d468e6"
   },
   "source": [
    "# 시각화 패키지 Matplotlib 소개"
   ]
  },
  {
   "cell_type": "markdown",
   "metadata": {
    "school_cell_uuid": "89acff444b2c4866932cb9e95f82f2a2"
   },
   "source": [
    "Matplotlib는 파이썬에서 자료를 차트(chart)나 플롯(plot)으로 시각화(visulaization)하는 패키지이다.\n",
    "Matplotlib는 다음과 같은 정형화된 차트나 플롯 이외에도 저수준 api를 사용한 다양한 시각화 기능을 제공한다.\n",
    "\n",
    "* 라인 플롯(line plot)\n",
    "* 스캐터 플롯(scatter plot)\n",
    "* 컨투어 플롯(contour plot)\n",
    "* 서피스 플롯(surface plot)\n",
    "* 바 차트(bar chart)\n",
    "* 히스토그램(histogram)\n",
    "* 박스 플롯(box plot)\n"
   ]
  },
  {
   "cell_type": "markdown",
   "metadata": {
    "school_cell_uuid": "71b481443c72480981f6f7d15d461d25"
   },
   "source": [
    "Matplotlib를 사용한 시각화 예제들을 보고 싶다면 Matplotlib 갤러리 웹사이트를 방문한다.\n",
    "\n",
    "* http://matplotlib.org/gallery.html"
   ]
  },
  {
   "cell_type": "markdown",
   "metadata": {
    "school_cell_uuid": "136849bd95f54cf0aac383303984bdea"
   },
   "source": [
    "## pylab 서브패키지"
   ]
  },
  {
   "cell_type": "markdown",
   "metadata": {
    "school_cell_uuid": "9d482c02836942569f53027f94e758af"
   },
   "source": [
    "Matplotlib 패키지에는 pylab 라는 서브패키지가 존재한다. 이 pylab 서브패키지는 matlab 이라는 수치해석 소프트웨어의 시각화 명령을 거의 그대로 사용할 수 있도록 Matplotlib 의 하위 API를 포장(wrapping)한 명령어 집합을 제공한다. 간단한 시각화 프로그램을 만드는 경우에는 pylab 서브패키지의 명령만으로도 충분하다. 다음에 설명할 명령어들도 별도의 설명이 없으면 pylab 패키지의 명령라고 생각하면 된다.\n",
    "\n",
    "Matplotlib 패키지를 사용할 때는 보통 다음과 같이 주 패키지는 `mpl` 이라는 alias로 임포트하고 pylab 서브패키지는 `plt` 라는 alias 로 별도 임포트하여 사용하는 것이 관례이므로 여기에서도 이러한 방법을 사용한다."
   ]
  },
  {
   "cell_type": "code",
   "execution_count": 1,
   "metadata": {
    "collapsed": true,
    "school_cell_uuid": "ccdce73bf40c4005a2ba891dd22d8dce"
   },
   "outputs": [],
   "source": [
    "import matplotlib as mpl\n",
    "import matplotlib.pylab as plt\n",
    "import numpy as np"
   ]
  },
  {
   "cell_type": "markdown",
   "metadata": {
    "school_cell_uuid": "0673e9552e8940e29bf3b896097fa930"
   },
   "source": [
    "주피터 노트북을 사용하는 경우에는 다음처럼 매직명령으로 노트북 내부에 그림을 표시하도록 지정해야 한다.\n",
    "\n",
    "```\n",
    "%matplotlib inline\n",
    "```"
   ]
  },
  {
   "cell_type": "markdown",
   "metadata": {
    "school_cell_uuid": "e5a532e576b347ba84c2d620716c2447"
   },
   "source": [
    "## 라인 플롯"
   ]
  },
  {
   "cell_type": "markdown",
   "metadata": {
    "school_cell_uuid": "7084de697f0941829297af3049e628e9"
   },
   "source": [
    "가장 간단한 플롯은 선을 그리는 라인 플롯(line plot)이다. 라인 플롯은 데이터가 시간, 순서 등에 따라 어떻게 변화하는지 보여주기 위해 사용한다.\n",
    "\n",
    "명령은 pylab 서브패키지의 `plot` 명령을 사용한다.\n",
    "\n",
    "* http://Matplotlib.org/api/pyplot_api.html#Matplotlib.pyplot.plot\n",
    "\n",
    "만약 데이터가 1, 4, 9, 16 으로 변화하였다면 다음과 같이 `plot` 명령에 데이터 리스트 혹은 `ndarray` 객체를 넘긴다."
   ]
  },
  {
   "cell_type": "code",
   "execution_count": 2,
   "metadata": {
    "school_cell_uuid": "b0200931f608466881b25eb3e7f7a540"
   },
   "outputs": [
    {
     "data": {
      "image/png": "[encoded data removed]",
      "text/plain": [
       "<matplotlib.figure.Figure at 0x29f284665f8>"
      ]
     },
     "metadata": {},
     "output_type": "display_data"
    }
   ],
   "source": [
    "plt.plot([1, 4, 9, 16])\n",
    "plt.show()"
   ]
  },
  {
   "cell_type": "markdown",
   "metadata": {
    "school_cell_uuid": "304aa797096e4ba5849f4d8cadba93c2"
   },
   "source": [
    "이 때 x 축의 자료 위치 즉, 틱(tick)은 자동으로 0, 1, 2, 3 이 된다. 만약 이 x tick 위치를 별도로 명시하고 싶다면 다음과 같이 두 개의 같은 길이의 리스트 혹은 배열 자료를 넣는다."
   ]
  },
  {
   "cell_type": "code",
   "execution_count": 3,
   "metadata": {
    "school_cell_uuid": "1ee241b5b2e74435a340998e94e84dfd"
   },
   "outputs": [
    {
     "data": {
      "image/png": "[encoded data removed]",
      "text/plain": [
       "<matplotlib.figure.Figure at 0x29f28f7a828>"
      ]
     },
     "metadata": {},
     "output_type": "display_data"
    }
   ],
   "source": [
    "plt.plot([10, 20, 30, 40], [1, 4, 9, 16])\n",
    "plt.show()"
   ]
  },
  {
   "cell_type": "markdown",
   "metadata": {
    "school_cell_uuid": "e16a9eec2b264b4da7d482299f866289"
   },
   "source": [
    "`show` 명령은 시각화 명령을 실제로 차트로 렌더링(rendering)하고 마우스 움직임 등의 이벤트를 기다리라는 지시이다.\n",
    "주피터 노트북에서는 셀 단위로 플롯 명령을 자동 렌더링 해주므로 `show` 명령이 필요없지만 일반 파이썬 인터프리터로 가동되는 경우를 대비하여 항상 마지막에 실행하도록 한다. `show` 명령을 주면 마지막 플롯 명령으로부터 반환된 플롯 객체의 표현도 가려주는 효과가 있다."
   ]
  },
  {
   "cell_type": "markdown",
   "metadata": {
    "school_cell_uuid": "5031b0ba96584e01a259f426adb4bebe"
   },
   "source": [
    "## 스타일 지정"
   ]
  },
  {
   "cell_type": "markdown",
   "metadata": {
    "school_cell_uuid": "01b7b89afa084177993298aa03dd2e8c"
   },
   "source": [
    "플롯 명령어는 보는 사람이 그림을 더 알아보기 쉽게 하기 위해 다양한 스타일(style)을 지원한다. `plot` 명령어에서는 다음과 같이 추가 문자열 인수를 사용하여 스타일을 지원한다."
   ]
  },
  {
   "cell_type": "code",
   "execution_count": 4,
   "metadata": {
    "school_cell_uuid": "ee5e7514f9a7403eab23fe6354d46858"
   },
   "outputs": [
    {
     "data": {
      "image/png": "[encoded data removed]",
      "text/plain": [
       "<matplotlib.figure.Figure at 0x29f290e7358>"
      ]
     },
     "metadata": {},
     "output_type": "display_data"
    }
   ],
   "source": [
    "plt.plot([10, 20, 30, 40], [1, 4, 9, 16], 'rs--')\n",
    "plt.show()"
   ]
  },
  {
   "cell_type": "markdown",
   "metadata": {
    "school_cell_uuid": "35eb5cd08f374a289a861b243587ee49"
   },
   "source": [
    "스타일 문자열은 색깔(color), 마커(marker), 선 종류(line style)의 순서로 지정한다. 만약 이 중 일부가 생략되면 디폴트값이 적용된다."
   ]
  },
  {
   "cell_type": "markdown",
   "metadata": {
    "school_cell_uuid": "0f467bb64b9240d28ae7c0af7d5caacf"
   },
   "source": [
    "### 색깔"
   ]
  },
  {
   "cell_type": "markdown",
   "metadata": {
    "school_cell_uuid": "c3c3d74a3f324214967155f0da9f1426"
   },
   "source": [
    "색깔을 지정하는 방법은 색 이름 혹은 약자를 사용하거나 `#` 문자로 시작되는 RGB코드를 사용한다.\n",
    "\n",
    "자주 사용되는 색깔은 한글자 약자를 사용할 수 있으며 약자는 아래 표에 정리하였다. 전체 색깔 목록은 다음 웹사이트를 참조한다.\n",
    "\n",
    "* http://Matplotlib.org/examples/color/named_colors.html\n",
    "\n",
    "| 문자열 | 약자 |\n",
    "|-|-|\n",
    "| `blue` | `b` |\n",
    "| `green` | `g` |\n",
    "| `red` | `r` |\n",
    "| `cyan` | `c` |\n",
    "| `magenta` | `m` |\n",
    "| `yellow` | `y` |\n",
    "| `black` | `k` |\n",
    "| `white` | `w` |\n"
   ]
  },
  {
   "cell_type": "markdown",
   "metadata": {
    "school_cell_uuid": "c21b5fb53a794ee4bbfd77aa1b0ba760"
   },
   "source": [
    "### 마커"
   ]
  },
  {
   "cell_type": "markdown",
   "metadata": {
    "school_cell_uuid": "66d7050eb8df4930b3c4f921d9df6ef2"
   },
   "source": [
    " 데이터 위치를 나타내는 기호를 마커(marker)라고 한다. 마커의 종류는 다음과 같다.\n",
    "\n",
    "| 마커 문자열 | 의미 |\n",
    "|-|-|\n",
    "| `.` | point marker  |\n",
    "| `,` | pixel marker |\n",
    "| `o` | circle marker |\n",
    "| `v` | triangle_down marker |\n",
    "| `^` | triangle_up marker |\n",
    "| `<` | triangle_left marker |\n",
    "| `>` | triangle_right marker |\n",
    "| `1` | tri_down marker |\n",
    "| `2` | tri_up marker |\n",
    "| `3` | tri_left marker |\n",
    "| `4` | tri_right marker |\n",
    "| `s` | square marker |\n",
    "| `p` | pentagon marker |\n",
    "| `*` | star marker |\n",
    "| `h` | hexagon1 marker |\n",
    "| `H` | hexagon2 marker |\n",
    "| `+` | plus marker |\n",
    "| `x` | x marker |\n",
    "| `D` | diamond marker |\n",
    "| `d` | thin_diamond marker |"
   ]
  },
  {
   "cell_type": "markdown",
   "metadata": {
    "school_cell_uuid": "8af88898a2c94bf3b01a81486a49378f"
   },
   "source": [
    "### 선 스타일"
   ]
  },
  {
   "cell_type": "markdown",
   "metadata": {
    "school_cell_uuid": "e9e7b2c37dfc408382cd3f8a658e618e"
   },
   "source": [
    "선 스타일에는 실선(solid), 대시선(dashed), 점선(dotted), 대시-점선(dash-dit) 이 있다. 지정 문자열은 다음과 같다.\n",
    "\n",
    "| 선 스타일 문자열 | 의미 |\n",
    "|-|-|\n",
    "| `-` |  solid line style\n",
    "| `--` |  dashed line style\n",
    "| `-.` |  dash-dot line style\n",
    "| `:` |  dotted line style"
   ]
  },
  {
   "cell_type": "markdown",
   "metadata": {
    "school_cell_uuid": "6a2aa7da863942caadec3228f1e92fef"
   },
   "source": [
    "### 기타 스타일"
   ]
  },
  {
   "cell_type": "markdown",
   "metadata": {
    "school_cell_uuid": "b91cf1114f7447f38f9793ace56f8d68"
   },
   "source": [
    "라인 플롯에서는 앞서 설명한 세 가지 스타일 이외에도 여러가지 스타일을 지정할 수 있지만 이 경우에는 인수 이름을 정확하게 지정해야 한다. 사용할 수 있는 스타일 인수의 목록은 `Matplotlib.lines.Line2D` 클래스에 대한 다음 웹사이트를 참조한다.\n",
    "\n",
    "* http://Matplotlib.org/api/lines_api.html#Matplotlib.lines.Line2D\n",
    "\n",
    "라인 플롯에서 자주 사용되는 기타 스타일은 다음과 같다.\n",
    "\n",
    "| 스타일 문자열 | 약자 | 의미 |\n",
    "|-|-|-|\n",
    "| `color` | `c`  | 선 색깔 |\n",
    "| `linewidth` | `lw` | 선 굵기 |\n",
    "| `linestyle` | `ls` | 선 스타일 |\n",
    "| `marker` |   | 마커 종류 |\n",
    "| `markersize` | `ms`  | 마커 크기 |\n",
    "| `markeredgecolor` | `mec`   |\t마커 선 색깔 |\n",
    "| `markeredgewidth` | `mew`   |\t마커 선 굵기 |\n",
    "| `markerfacecolor` | `mfc`   |\t마커 내부 색깔 |\n"
   ]
  },
  {
   "cell_type": "code",
   "execution_count": 5,
   "metadata": {
    "school_cell_uuid": "8216e4d114b04a69beb0b5d5c2dba4a6"
   },
   "outputs": [
    {
     "data": {
      "image/png": "[encoded data removed]",
      "text/plain": [
       "<matplotlib.figure.Figure at 0x29f29339c18>"
      ]
     },
     "metadata": {},
     "output_type": "display_data"
    }
   ],
   "source": [
    "plt.plot([10, 20, 30, 40], [1, 4, 9, 16], c=\"b\", \n",
    "         lw=5, ls=\"--\", marker=\"o\", ms=15, mec=\"g\", mew=5, mfc=\"r\")\n",
    "plt.show()"
   ]
  },
  {
   "cell_type": "markdown",
   "metadata": {
    "school_cell_uuid": "b92b6e2db64244039b797eb02229feb5"
   },
   "source": [
    "## 그림 범위 지정"
   ]
  },
  {
   "cell_type": "markdown",
   "metadata": {
    "school_cell_uuid": "52d43748580b4056be52ea0a6df1acea"
   },
   "source": [
    "플롯 그림을 보면 몇몇 점들은 그림의 범위 경계선에 있어서 잘 보이지 않는 경우가 있을 수 있다. 그림의 범위를 수동으로 지정하려면 `xlim` 명령과 `ylim` 명령을 사용한다. 이 명령들은 그림의 범위가 되는 x축, y축의 최소값과 최대값을 지정한다."
   ]
  },
  {
   "cell_type": "code",
   "execution_count": 6,
   "metadata": {
    "school_cell_uuid": "1b572b3d7c874fe68ba7af6ed207c6cc"
   },
   "outputs": [
    {
     "data": {
      "image/png": "[encoded data removed]",
      "text/plain": [
       "<matplotlib.figure.Figure at 0x29f297284a8>"
      ]
     },
     "metadata": {},
     "output_type": "display_data"
    }
   ],
   "source": [
    "plt.plot([10, 20, 30, 40], [1, 4, 9, 16],\n",
    "         c=\"b\", lw=5, ls=\"--\", marker=\"o\", ms=15, mec=\"g\", mew=5, mfc=\"r\")\n",
    "plt.xlim(0, 50)\n",
    "plt.ylim(-10, 30)\n",
    "plt.show()"
   ]
  },
  {
   "cell_type": "markdown",
   "metadata": {
    "school_cell_uuid": "33016516715d429f8ee1fc8b123f2949"
   },
   "source": [
    "## 틱 설정"
   ]
  },
  {
   "cell_type": "markdown",
   "metadata": {
    "school_cell_uuid": "05ef58d2c5a942b9925b7bb0251c7eca"
   },
   "source": [
    "플롯이나 차트에서 축상의 위치 표시 지점을 틱(tick)이라고 하고 이 틱에 써진 숫자 혹은 글자를 틱 라벨(tick label)이라고 한다. 틱의 위치나 틱 라벨은 Matplotlib가 자동으로 정해주지만 만약 수동으로 설정하고 싶다면 `xticks` 명령이나 `yticks` 명령을 사용한다."
   ]
  },
  {
   "cell_type": "code",
   "execution_count": null,
   "metadata": {
    "collapsed": true,
    "school_cell_uuid": "12019ae320a9485193a974f7088e64dc"
   },
   "outputs": [],
   "source": [
    "#tick : x축이나 y축에 표시될 값 \n",
    "\n",
    "X = np.linspace(-np.pi, np.pi, 256)\n",
    "C = np.cos(X)\n",
    "plt.plot(X, C)\n",
    "plt.xticks([-np.pi, -np.pi / 2, 0, np.pi / 2, np.pi])\n",
    "plt.yticks([-1, 0, +1])\n",
    "plt.show()"
   ]
  },
  {
   "cell_type": "markdown",
   "metadata": {
    "school_cell_uuid": "403ecaf952e14c0db83a97ec69c44aea"
   },
   "source": [
    "틱 라벨 문자열에는 `$$` 사이에 LaTeX 수학 문자식을 넣을 수도 있다."
   ]
  },
  {
   "cell_type": "code",
   "execution_count": null,
   "metadata": {
    "collapsed": true,
    "school_cell_uuid": "85f8f2774271416ba6775a2256bd5831"
   },
   "outputs": [],
   "source": [
    "#LaTeX 수학 문자식은 따로 공부해야 한다.\n",
    "\n",
    "X = np.linspace(-np.pi, np.pi, 256)\n",
    "C = np.cos(X)\n",
    "plt.plot(X, C)\n",
    "plt.xticks([-np.pi, -np.pi / 2, 0, np.pi / 2, np.pi],\n",
    "           [r'$-\\pi$', r'$-\\pi/2$', r'$0$', r'$+\\pi/2$', r'$+\\pi$'])\n",
    "plt.yticks([-1, 0, 1], [\"Low\", \"Zero\", \"High\"])\n",
    "plt.show()"
   ]
  },
  {
   "cell_type": "markdown",
   "metadata": {
    "school_cell_uuid": "67403ad5d18c4a38a4002a81e47bfebf"
   },
   "source": [
    "## 그리드 설정"
   ]
  },
  {
   "cell_type": "markdown",
   "metadata": {
    "school_cell_uuid": "75dc86f0b8184fbe9b292a9e690a6d09"
   },
   "source": [
    "위 그림을 보면 틱 위치를 잘 보여주기 위해 그림 중간에 그리드 선(grid line)이 자동으로 그려진 것을 알 수 있다. 그리드를 사용하지 않으려면 `grid(False)` 명령을 사용한다. 다시 그리드를 사용하려면 `grid(True)`를 사용한다."
   ]
  },
  {
   "cell_type": "code",
   "execution_count": null,
   "metadata": {
    "collapsed": true,
    "school_cell_uuid": "83da68044b8c420b96c7d848f57ef3a5"
   },
   "outputs": [],
   "source": [
    "X = np.linspace(-np.pi, np.pi, 256)\n",
    "C = np.cos(X)\n",
    "plt.plot(X, C)\n",
    "plt.xticks([-np.pi, -np.pi / 2, 0, np.pi / 2, np.pi],\n",
    "           [r'$-\\pi$', r'$-\\pi/2$', r'$0$', r'$+\\pi/2$', r'$+\\pi$'])\n",
    "plt.yticks([-1, 0, 1], [\"Low\", \"Zero\", \"High\"])\n",
    "plt.grid(False)\n",
    "plt.show()"
   ]
  },
  {
   "cell_type": "markdown",
   "metadata": {
    "school_cell_uuid": "fcef5cf0ea0f418395f3570865fafa40"
   },
   "source": [
    "## 여러개의 선을 그리기"
   ]
  },
  {
   "cell_type": "markdown",
   "metadata": {
    "school_cell_uuid": "ddcfcd5d752e4e618be72126fc27a07c"
   },
   "source": [
    "라인 플롯에서 선을 하나가 아니라 여러개를 그리고 싶은 경우에는 x 데이터, y 데이터, 스타일 문자열을 반복하여 인수로 넘긴다. 이 경우에는 하나의 선을 그릴 때 처럼 x 데이터나 스타일 문자열을 생략할 수 없다."
   ]
  },
  {
   "cell_type": "code",
   "execution_count": null,
   "metadata": {
    "collapsed": true,
    "school_cell_uuid": "3a18e9d84f3e42a98941c39d1098e37e"
   },
   "outputs": [],
   "source": [
    "t = np.arange(0., 5., 0.2)\n",
    "plt.plot(t, t, 'r--', t, 0.5 * t**2, 'bs:', t, 0.2 * t**3, 'g^-')\n",
    "plt.show()"
   ]
  },
  {
   "cell_type": "markdown",
   "metadata": {
    "school_cell_uuid": "ef6d9d9baa3443e78a1e34da469062f1"
   },
   "source": [
    "## 홀드 명령"
   ]
  },
  {
   "cell_type": "markdown",
   "metadata": {
    "school_cell_uuid": "5c8ccfe3b1574b65ba87ad4a88434cba"
   },
   "source": [
    "하나의 `plot` 명령이 아니라 복수의 `plot` 명령을 하나의 그림에 겹쳐서 그릴 수도 있다. \n",
    "\n",
    "Matplotlib 1.5까지는 `hold(True)` 명령을 이용하여 기존의 그림 위에 겹쳐 그리도록 하였다. 겹치기를 종료하는 것은 `hold(False)` 명령이다.\n",
    "\n",
    "Matplotlib 2.0부터는 모든 플롯 명령에 `hold(True)`가 자동 적용된다."
   ]
  },
  {
   "cell_type": "code",
   "execution_count": null,
   "metadata": {
    "collapsed": true,
    "school_cell_uuid": "804fd3acfa7c49ed8bf2e4e807fba4cb"
   },
   "outputs": [],
   "source": [
    "plt.plot([1, 4, 9, 16],\n",
    "         c=\"b\", lw=5, ls=\"--\", marker=\"o\", ms=15, mec=\"g\", mew=5, mfc=\"r\")\n",
    "# plt.hold(True)   # <- 1,5 버전에서는 이 코드가 필요하다.\n",
    "plt.plot([9, 16, 4, 1],\n",
    "         c=\"k\", lw=3, ls=\":\", marker=\"s\", ms=10, mec=\"m\", mew=5, mfc=\"c\")\n",
    "# plt.hold(False)  # <- 1,5 버전에서는 이 코드가 필요하다.\n",
    "plt.show()"
   ]
  },
  {
   "cell_type": "markdown",
   "metadata": {
    "school_cell_uuid": "a75cc3a121124109b086745a62ad5d46"
   },
   "source": [
    "## 범례"
   ]
  },
  {
   "cell_type": "markdown",
   "metadata": {
    "school_cell_uuid": "368d994849e24b029e58cf629aa98d0b"
   },
   "source": [
    "여러개의 라인 플롯을 동시에 그리는 경우에는 각 선이 무슨 자료를 표시하는지를 보여주기 위해 `legend` 명령으로  범례(legend)를 추가할 수 있다. 범례의 위치는 자동으로 정해지지만 수동으로 설정하고 싶으면 `loc` 인수를 사용한다. 인수에는 문자열 혹은 숫자가 들어가며 가능한 코드는 다음과 같다.\n",
    "\n",
    "| loc 문자열 | 숫자 |\n",
    "|-|-|\n",
    "| `best` |  0 | \n",
    "| `upper right` |  1 | \n",
    "| `upper left` |  2 | \n",
    "| `lower left` |  3 | \n",
    "| `lower right` |  4 | \n",
    "| `right` |  5 | \n",
    "| `center left` |  6 | \n",
    "| `center right` |  7 | \n",
    "| `lower center` |  8 | \n",
    "| `upper center` |  9 | \n",
    "| `center` |  10 | \n",
    "\n"
   ]
  },
  {
   "cell_type": "code",
   "execution_count": null,
   "metadata": {
    "collapsed": true,
    "school_cell_uuid": "74c8a89143c24716acfd9bca227badb6"
   },
   "outputs": [],
   "source": [
    "X = np.linspace(-np.pi, np.pi, 256)\n",
    "C, S = np.cos(X), np.sin(X)\n",
    "plt.plot(X, C, ls=\"--\", label=\"cosine\")\n",
    "plt.plot(X, S, ls=\":\", label=\"sine\")\n",
    "plt.legend(loc=2) # loc 위치 지정 가능\n",
    "plt.show()"
   ]
  },
  {
   "cell_type": "markdown",
   "metadata": {
    "school_cell_uuid": "105251066e4d424f80607a8983a0ffd6"
   },
   "source": [
    "## x축, y축 라벨, 타이틀"
   ]
  },
  {
   "cell_type": "markdown",
   "metadata": {
    "school_cell_uuid": "a9230f1994564a6c9f0277d3993b58e5"
   },
   "source": [
    "플롯의 x축 위치와 y축 위치에는 각각 그 데이터가 의미하는 바를 표시하기 위해 라벨(label)를 추가할 수 있다. 라벨을 붙이려면 `xlabel`. `ylabel` 명령을 사용한다. 또 플롯의 위에는 `title` 명령으로 제목(title)을 붙일 수 있다."
   ]
  },
  {
   "cell_type": "code",
   "execution_count": null,
   "metadata": {
    "collapsed": true,
    "school_cell_uuid": "f0fc733042104916b95368af338f5a70"
   },
   "outputs": [],
   "source": [
    "X = np.linspace(-np.pi, np.pi, 256)\n",
    "C, S = np.cos(X), np.sin(X)\n",
    "plt.plot(X, C, label=\"cosine\")\n",
    "plt.xlabel(\"time\") # x축 라벨\n",
    "plt.ylabel(\"amplitude\") # y축 라벨\n",
    "plt.title(\"Cosine Plot\") # 그래프 이름\n",
    "# plt.legend()  # plt.plot(label='') 지정해야 legend 가능\n",
    "plt.show()"
   ]
  },
  {
   "cell_type": "markdown",
   "metadata": {
    "bootstrap": {
     "panel": {
      "class": "panel-default"
     }
    },
    "school_cell_uuid": "fa63ee913b5840c08d9ee50e82ff461d"
   },
   "source": [
    "### 연습 문제 1\n",
    "\n",
    "여러가지 함수를 사용하여 위와 같은 그래프를 그린다. 단 xlabel, ylabel, title을 모두 갖추고 있어야 한다."
   ]
  },
  {
   "cell_type": "markdown",
   "metadata": {
    "school_cell_uuid": "8fa972ce99c24586942b8cd35f41f212"
   },
   "source": [
    "## 그림의 구조"
   ]
  },
  {
   "cell_type": "markdown",
   "metadata": {
    "school_cell_uuid": "3603ffacc808493c96f4ef7285b4b307"
   },
   "source": [
    "Matplotlib가 그리는 그림은 Figure 객체, Axes 객체, Axis 객체 등으로 구성된다. Figure 객체는 한 개 이상의  Axes 객체를 포함하고 Axes 객체는 다시 두 개 이상의 Axis 객체를 포함한다.  다음 그림은 이 구조를 설명하고 있다.\n",
    "\n",
    "<img src=\"https://datascienceschool.net/upfiles/4e20efe6352e4f4fac65c26cb660f522.png\" style=\"width: 50%\">"
   ]
  },
  {
   "cell_type": "markdown",
   "metadata": {
    "school_cell_uuid": "484866d5fd3149cabc804c3c17c27377"
   },
   "source": [
    "### Figure 객체"
   ]
  },
  {
   "cell_type": "markdown",
   "metadata": {
    "school_cell_uuid": "2115ef027a6a4a6aa4b160c3754a9e01"
   },
   "source": [
    "모든 그림은 Figure 객체. 정식으로는  `Matplotlib.figure.Figure` 클래스 객체에 포함되어 있다. 내부 플롯(inline plot)이 아닌 경우에는 하나의 Figure는 하나의 아이디 숫자와 윈도우(Window)를 가진다. 주피터 노트북에서는 윈도우 객체가 생성되지 않지만 파이썬을 독립 실행하는 경우에는 하나의 Figure당 하나의 윈도우를 별도로 가진다. Figure 객체에 대한 자세한 설명은 다음 웹사이트를 참조한다.\n",
    "\n",
    "* http://Matplotlib.org/api/figure_api.html#Matplotlib.figure.Figure"
   ]
  },
  {
   "cell_type": "markdown",
   "metadata": {
    "school_cell_uuid": "8cf54f3bd1294ddca0a21a0469cab0e8"
   },
   "source": [
    "원래 Figure를 생성하려면 `figure` 명령을 사용하여 그 반환값으로 Figure 객체를 얻어야 한다. 그러나 일반적인 `plot` 명령 등을 실행하면 자동으로 Figure를 생성해주기 때문에 **일반적으로는 `figure` 명령을 잘 사용하지 않는다. **`figure` 명령을 명시적으로 사용하는 경우는 여러개의 윈도우를 동시에 띄워야 하거나(line plot이 아닌 경우), **Jupyter 노트북 등에서(line plot의 경우) 그림의 크기를 설정하고 싶을 때이다. 그림의 크기는 figsize 인수로 설정한다.**"
   ]
  },
  {
   "cell_type": "code",
   "execution_count": null,
   "metadata": {
    "collapsed": true,
    "school_cell_uuid": "d6f40f8691cf4edf83ef6ab02400315f"
   },
   "outputs": [],
   "source": [
    "np.random.seed(0)\n",
    "f1 = plt.figure(figsize=(10, 2)) #figsize = 시진 크기 조정\n",
    "plt.plot(np.random.randn(100))\n",
    "plt.show()"
   ]
  },
  {
   "cell_type": "markdown",
   "metadata": {
    "school_cell_uuid": "2cbe417668a64fed8f2c034959b77af6"
   },
   "source": [
    "만약 명시적으로 `figure` 명령을 사용하지 않은 경우에 Figure 객체를 얻으려면 `gcf` 명령을 사용한다."
   ]
  },
  {
   "cell_type": "code",
   "execution_count": null,
   "metadata": {
    "collapsed": true,
    "school_cell_uuid": "019f13ad3df246028dd898c621bb5780"
   },
   "outputs": [],
   "source": [
    "f1 = plt.figure(1)\n",
    "plt.plot([1, 2, 3, 4], 'ro:')\n",
    "f2 = plt.gcf()\n",
    "print(f1, id(f1))\n",
    "print(f2, id(f2))\n",
    "plt.show()"
   ]
  },
  {
   "cell_type": "markdown",
   "metadata": {
    "school_cell_uuid": "c5b3b36373ee4bfcb40078a4a7bf8d82"
   },
   "source": [
    "### Axes 객체와 `subplot` 명령"
   ]
  },
  {
   "cell_type": "markdown",
   "metadata": {
    "school_cell_uuid": "f64845a1ed534ddca75633b9166f323f"
   },
   "source": [
    "때로는 다음과 같이 하나의 윈도우(Figure)안에 여러개의 플롯을 배열 형태로 보여야하는 경우도 있다. Figure 안에 있는 각각의 플롯은 Axes 라고 불리는 객체에 속한다. Axes 객체에 대한 자세한 설명은 다음 웹사이트를 참조한다.\n",
    "\n",
    "* http://Matplotlib.org/api/axes_api.html#Matplotlib.axes.Axes"
   ]
  },
  {
   "cell_type": "markdown",
   "metadata": {
    "school_cell_uuid": "4d48701356504db6b62489f7dafe0ccd"
   },
   "source": [
    "Figure 안에 Axes를 생성하려면 원래 `subplot` 명령을 사용하여 명시적으로 Axes 객체를 얻어야 한다. 그러나 plot 명령을 바로 사용해도 자동으로 Axes를 생성해 준다.\n",
    "\n",
    "`subplot` 명령은 그리드(grid) 형태의 Axes 객체들을 생성하는데 Figure가 행렬(matrix)이고 Axes가 행렬의 원소라고 생각하면 된다. 예를 들어 \n",
    "위와 아래 두 개의 플롯이 있는 경우 행이 2 이고 열이 1인 2x1 행렬이다.  `subplot` 명령은 세개의 인수를 가지는데 처음 두개의 원소가 전체 그리드 행렬의 모양을 지시하는 두 숫자이고 세번째 인수가 네 개 중 어느것인지를 의미하는 숫자이다. 따라서 위/아래 두개의 플롯을 하나의 Figure 안에 그리려면 다음처럼 명령을 실행해야 한다. 여기에서 숫자 인덱싱은 파이썬이 아닌 Matlab 관행을 따르기 때문에 첫번째 플롯을 가리키는 숫자가 0이 아니라 1임에 주의하라.\n",
    "\n",
    "\n",
    "```\n",
    "subplot(2, 1, 1)\n",
    "# 여기에서 윗부분에 그릴 플롯 명령 실행\n",
    "subplot(2, 1, 2)\n",
    "# 여기에서 아랫부분에 그릴 플롯 명령 실행\n",
    "```\n",
    "\n",
    "\n",
    "`tight_layout` 명령을 실행하면 플롯간의 간격을 자동으로 맞춰준다."
   ]
  },
  {
   "cell_type": "code",
   "execution_count": null,
   "metadata": {
    "collapsed": true,
    "school_cell_uuid": "d5b847a8734d49a987fb34b613bf6fcc"
   },
   "outputs": [],
   "source": [
    "x1 = np.linspace(0.0, 5.0)\n",
    "x2 = np.linspace(0.0, 2.0)\n",
    "y1 = np.cos(2 * np.pi * x1) * np.exp(-x1)\n",
    "y2 = np.cos(2 * np.pi * x2)\n",
    "\n",
    "ax1 = plt.subplot(2, 1, 1)\n",
    "plt.plot(x1, y1, 'yo-')\n",
    "plt.title('A tale of 2 subplots')\n",
    "plt.ylabel('Damped oscillation')\n",
    "print(ax1)\n",
    "\n",
    "ax2 = plt.subplot(2, 1, 2)\n",
    "plt.plot(x2, y2, 'r.-')\n",
    "plt.xlabel('time (s)')\n",
    "plt.ylabel('Undamped')\n",
    "print(ax2)\n",
    "\n",
    "plt.tight_layout()\n",
    "plt.show()"
   ]
  },
  {
   "cell_type": "markdown",
   "metadata": {
    "school_cell_uuid": "b57f3cd7cc534e359ae84a690bc3aa59"
   },
   "source": [
    "만약 2x2 형태의 네 개의 플롯이라면 다음과 같이 그린다. 이 때 `subplot` 의 인수는 (2,2,1)를 줄여서 221 라는 하나의 숫자로 표시할 수도 있다.\n",
    "Axes의 위치는 위에서 부터 아래로, 왼쪽에서 오른쪽으로 카운트한다."
   ]
  },
  {
   "cell_type": "code",
   "execution_count": null,
   "metadata": {
    "collapsed": true,
    "school_cell_uuid": "7a79f1c8c0894ec093b60bbdaf7f101d"
   },
   "outputs": [],
   "source": [
    "np.random.seed(0)\n",
    "\n",
    "plt.subplot(221) # 2 x 2  크기에 1 번 위치\n",
    "plt.plot(np.random.rand(5)) \n",
    "plt.title(\"axes 1\")\n",
    "\n",
    "plt.subplot(222) # 2 x 2 크기에 2번 위치\n",
    "plt.plot(np.random.rand(5))\n",
    "plt.title(\"axes 2\")\n",
    "\n",
    "plt.subplot(223)\n",
    "plt.plot(np.random.rand(5))\n",
    "plt.title(\"axes 3\")\n",
    "\n",
    "plt.subplot(224)\n",
    "plt.plot(np.random.rand(5))\n",
    "plt.title(\"axes 4\")\n",
    "\n",
    "plt.tight_layout() \n",
    "#tight_layout 함수는 subplot들이 Figure 객체의 영역 내에서 자동으로 최대 크기로 출력되도록 해줍니다. 여백을 두는 것보다 조금 더 그래프를 크게 그리는 것이 해석할 때 편리하기 때문에 자동으로 크기 조절을 해주는 것입니다.\n",
    "plt.show()"
   ]
  },
  {
   "cell_type": "markdown",
   "metadata": {
    "bootstrap": {
     "panel": {
      "class": "panel-default"
     }
    },
    "school_cell_uuid": "1a2c7215e0424216b80533ee85cfb8b8"
   },
   "source": [
    "### 연습 문제 2\n",
    "\n",
    "여러가지 함수를 사용하여 위와 같이 subplot들로 구성된 그림을 그려보자. 모든 subplot에 대해 xlabel, ylabel, title이 있어야 한다."
   ]
  },
  {
   "cell_type": "markdown",
   "metadata": {
    "school_cell_uuid": "00700e2246fa4cd199e912b1d54188c0"
   },
   "source": [
    "## 한글 사용"
   ]
  },
  {
   "cell_type": "code",
   "execution_count": null,
   "metadata": {
    "collapsed": true
   },
   "outputs": [],
   "source": [
    "# 한글 폰트\n",
    "from matplotlib import font_manager, rc\n",
    "font_name = font_manager.FontProperties(fname=\"C:/Windows/Fonts/malgun.ttf\").get_name()\n",
    "rc('font', family=font_name)"
   ]
  },
  {
   "cell_type": "markdown",
   "metadata": {
    "school_cell_uuid": "687f00feaa434d37a5dc8202fca0cc13"
   },
   "source": [
    "Matplotlib에서 한글을 사용하려면 다음과 같이 한글 폰트를 적용해야 한다. 당연히 해당 폰트는 컴퓨터에 깔려 있어야 한다. 여기에서는 나눔고딕 폰트를 사용하였다. 나눔고딕 폰트 설치법은 다음과 같다.\n",
    "\n",
    "* 윈도우/맥\n",
    "    * http://hangeul.naver.com/2017/nanum 에서 폰트 인스톨러를 내려받아 실행한다.\n",
    "    \n",
    "* 리눅스\n",
    "    * 콘솔에서 다음과 같이 실행한다.\n",
    "    ```\n",
    "    $ sudo apt-get install -y fonts-nanum*\n",
    "    ```"
   ]
  },
  {
   "cell_type": "markdown",
   "metadata": {
    "school_cell_uuid": "d1e2538692844c548267c0f37b711555"
   },
   "source": [
    "폰트를 설치한 후에는 다음 명령으로 원하는 폰트가 설치되어 있는지 확인한다.\n",
    "\n",
    "```\n",
    ">>> set(sorted([f.name for f in mpl.font_manager.fontManager.ttflist]))\n",
    "\n",
    "\n",
    "...(생략)...\n",
    " u'Nanum Brush Script',\n",
    " u'Nanum Brush Script OTF',\n",
    " u'Nanum Pen Script',\n",
    " u'Nanum Pen Script OTF',\n",
    " u'NanumBarunGothic',\n",
    " u'NanumBarunGothicOTF',\n",
    " u'NanumBarunpen',\n",
    " u'NanumGothic',\n",
    " u'NanumGothicCoding',\n",
    " u'NanumGothicOTF',\n",
    " u'NanumMyeongjo',\n",
    " u'NanumMyeongjoOTF',\n",
    " u'NanumSquare',\n",
    "...(생략)...\n",
    " \n",
    " \n",
    "```\n"
   ]
  },
  {
   "cell_type": "markdown",
   "metadata": {
    "school_cell_uuid": "3a9cfc1a9bb34cf4b43fc70defac395a"
   },
   "source": [
    "설치된 폰트를 사용하는 방법은 크게 두가지 이다.\n",
    "\n",
    "* rc parameter 설정으로 이후의 그림 전체에 적용\n",
    "* 인수를 사용하여 개별 텍스트 관련 명령에만 적용\n",
    "\n",
    "한글 문자열은 항상 유니코드를 사용해야 한다."
   ]
  },
  {
   "cell_type": "markdown",
   "metadata": {
    "school_cell_uuid": "53b07f22c29d4022af9bb0d3bea7f9fd"
   },
   "source": [
    "우선 rc parameter를 설정하여 이후의 그림 전체에 적용해 보자"
   ]
  },
  {
   "cell_type": "code",
   "execution_count": null,
   "metadata": {
    "collapsed": true,
    "school_cell_uuid": "ed0d6135b4fe4613a94d6cc0ec18befc"
   },
   "outputs": [],
   "source": [
    "plt.title('한글 제목')\n",
    "plt.plot(X, C, label=\"코사인\")\n",
    "t = 2 * np.pi / 3\n",
    "plt.scatter(t, np.cos(t), 50, color='blue')\n",
    "plt.xlabel(\"엑스축 라벨\")\n",
    "plt.ylabel(\"와이축 라벨\")\n",
    "plt.annotate(\"여기가 0.5!\", \n",
    "             xy=(t, np.cos(t)), xycoords='data', xytext=(-90, -50), \n",
    "             textcoords='offset points', \n",
    "             fontsize=16, arrowprops=dict(arrowstyle=\"->\"))\n",
    "plt.show()    "
   ]
  },
  {
   "cell_type": "markdown",
   "metadata": {
    "bootstrap": {
     "panel": {
      "class": "panel-default"
     }
    },
    "school_cell_uuid": "1a2c7215e0424216b80533ee85cfb8b8"
   },
   "source": [
    "### 연습 문제 3\n",
    "\n",
    "1. Matplotlib 갤러리 웹사이트에서 관심있는 예제 코드를 하나 고른다. \n",
    "  * http://matplotlib.org/gallery.html\n",
    "2. 예제 코드에 사용된 Matplotlib API 명령의 목록을 만들고 Matplotlib 웹사이트에서 관련 링크를 찾아 내용을 정리한다.\n",
    "3. 변형된 형태의 플롯을 만들어본다."
   ]
  }
 ],
 "metadata": {
  "kernelspec": {
   "display_name": "Python 3",
   "language": "python",
   "name": "python3"
  },
  "language_info": {
   "codemirror_mode": {
    "name": "ipython",
    "version": 3
   },
   "file_extension": ".py",
   "mimetype": "text/x-python",
   "name": "python",
   "nbconvert_exporter": "python",
   "pygments_lexer": "ipython3",
   "version": "3.6.3"
  },
  "latex_envs": {
   "LaTeX_envs_menu_present": true,
   "autoclose": false,
   "autocomplete": true,
   "bibliofile": "biblio.bib",
   "cite_by": "apalike",
   "current_citInitial": 1,
   "eqLabelWithNumbers": true,
   "eqNumInitial": 1,
   "hotkeys": {
    "equation": "Ctrl-E",
    "itemize": "Ctrl-I"
   },
   "labels_anchors": false,
   "latex_user_defs": false,
   "report_style_numbering": false,
   "user_envs_cfg": false
  }
 },
 "nbformat": 4,
 "nbformat_minor": 1
}
