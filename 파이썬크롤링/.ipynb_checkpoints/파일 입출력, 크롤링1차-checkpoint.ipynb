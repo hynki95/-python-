{
 "cells": [
  {
   "cell_type": "markdown",
   "metadata": {},
   "source": [
    " ## 파일 입출력, File I/O    "
   ]
  },
  {
   "cell_type": "code",
   "execution_count": 15,
   "metadata": {
    "collapsed": true
   },
   "outputs": [],
   "source": [
    "fp=open(\"hello.txt\",\"r\")"
   ]
  },
  {
   "cell_type": "code",
   "execution_count": 16,
   "metadata": {},
   "outputs": [
    {
     "data": {
      "text/plain": [
       "'Hello, Jupyter !!'"
      ]
     },
     "execution_count": 16,
     "metadata": {},
     "output_type": "execute_result"
    }
   ],
   "source": [
    "fp.read()"
   ]
  },
  {
   "cell_type": "markdown",
   "metadata": {},
   "source": [
    "with 문은 내부적으로 알아서 종료를 해주는 점이 있다."
   ]
  },
  {
   "cell_type": "code",
   "execution_count": 18,
   "metadata": {},
   "outputs": [
    {
     "name": "stdout",
     "output_type": "stream",
     "text": [
      "Hello, Jupyter !!\n"
     ]
    }
   ],
   "source": [
    "\n",
    "with open('hello.txt', 'r') as fp:\n",
    "    data = fp.read()\n",
    "    print(data)"
   ]
  },
  {
   "cell_type": "markdown",
   "metadata": {},
   "source": [
    "fp.write 는 파일을 쓰는것."
   ]
  },
  {
   "cell_type": "code",
   "execution_count": 19,
   "metadata": {
    "collapsed": true
   },
   "outputs": [],
   "source": [
    "with open('subject.txt', 'w') as fp:\n",
    "    data = '파이썬을 이용한 빅데이터 분석!!'\n",
    "    fp.write(data)"
   ]
  },
  {
   "cell_type": "code",
   "execution_count": 20,
   "metadata": {},
   "outputs": [
    {
     "name": "stdout",
     "output_type": "stream",
     "text": [
      "파이썬을 이용한 빅데이터 분석!!\n"
     ]
    }
   ],
   "source": [
    "with open('subject.txt', 'r') as fp:\n",
    "    data = fp.read()\n",
    "    print(data)"
   ]
  },
  {
   "cell_type": "code",
   "execution_count": 22,
   "metadata": {},
   "outputs": [
    {
     "name": "stdout",
     "output_type": "stream",
     "text": [
      " C 드라이브의 볼륨에는 이름이 없습니다.\n",
      " 볼륨 일련 번호: D20D-A6C1\n",
      "\n",
      " C:\\Users\\조현기\\한경_빅데이터과정\\파이썬크롤링 디렉터리\n",
      "\n",
      "2018-01-12  오전 10:17                17 hello.txt\n",
      "2018-01-12  오전 10:22                31 subject.txt\n",
      "2018-01-12  오전 10:12                 0 untitled.txt\n",
      "               3개 파일                  48 바이트\n",
      "               0개 디렉터리  101,144,981,504 바이트 남음\n"
     ]
    }
   ],
   "source": [
    "% ls *.txt"
   ]
  },
  {
   "cell_type": "code",
   "execution_count": 32,
   "metadata": {},
   "outputs": [],
   "source": [
    "with open(\"연습파일.txt\", \"w\") as ap:\n",
    "    data = \"텍스트 파일 내용 입력하는 중\"\n",
    "    ap.write(data)"
   ]
  },
  {
   "cell_type": "code",
   "execution_count": 27,
   "metadata": {},
   "outputs": [
    {
     "name": "stdout",
     "output_type": "stream",
     "text": [
      "텍스트 파일 내용 입력하는 중\n"
     ]
    }
   ],
   "source": [
    "with open(\"연습파일.txt\",\"r\") as ap:\n",
    "    data = ap.read()\n",
    "    print(data)"
   ]
  },
  {
   "cell_type": "code",
   "execution_count": 28,
   "metadata": {},
   "outputs": [
    {
     "name": "stdout",
     "output_type": "stream",
     "text": [
      " C 드라이브의 볼륨에는 이름이 없습니다.\n",
      " 볼륨 일련 번호: D20D-A6C1\n",
      "\n",
      " C:\\Users\\조현기\\한경_빅데이터과정\\파이썬크롤링 디렉터리\n",
      "\n",
      "2018-01-12  오전 10:17                17 hello.txt\n",
      "2018-01-12  오전 10:22                31 subject.txt\n",
      "2018-01-12  오전 10:12                 0 untitled.txt\n",
      "2018-01-12  오전 10:32                28 연습파일.txt\n",
      "               4개 파일                  76 바이트\n",
      "               0개 디렉터리  101,177,896,960 바이트 남음\n"
     ]
    }
   ],
   "source": [
    "% ls *.txt"
   ]
  },
  {
   "cell_type": "code",
   "execution_count": 37,
   "metadata": {
    "collapsed": true
   },
   "outputs": [],
   "source": [
    "with open(\"연습파일2.txt\",\"w\") as rt:\n",
    "    data2=\"내용을 입력하였으니 출력이 돼야 해!\"\n",
    "    rt.write(data2)"
   ]
  },
  {
   "cell_type": "code",
   "execution_count": 39,
   "metadata": {},
   "outputs": [
    {
     "name": "stdout",
     "output_type": "stream",
     "text": [
      "내용을 입력하였으니 출력이 돼야 해!\n"
     ]
    }
   ],
   "source": [
    "with open(\"연습파일2.txt\",\"r\") as rt:\n",
    "    data2 = rt.read()\n",
    "    print(data2)"
   ]
  },
  {
   "cell_type": "code",
   "execution_count": null,
   "metadata": {
    "collapsed": true
   },
   "outputs": [],
   "source": []
  }
 ],
 "metadata": {
  "kernelspec": {
   "display_name": "Python 3",
   "language": "python",
   "name": "python3"
  },
  "language_info": {
   "codemirror_mode": {
    "name": "ipython",
    "version": 3
   },
   "file_extension": ".py",
   "mimetype": "text/x-python",
   "name": "python",
   "nbconvert_exporter": "python",
   "pygments_lexer": "ipython3",
   "version": "3.6.3"
  }
 },
 "nbformat": 4,
 "nbformat_minor": 2
}
