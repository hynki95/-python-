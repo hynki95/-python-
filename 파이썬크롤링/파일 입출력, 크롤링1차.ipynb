{
 "cells": [
  {
   "cell_type": "markdown",
   "metadata": {},
   "source": [
    " ## 파일 입출력, File I/O    "
   ]
  },
  {
   "cell_type": "code",
   "execution_count": 15,
   "metadata": {
    "collapsed": true
   },
   "outputs": [],
   "source": [
    "fp=open(\"hello.txt\",\"r\")"
   ]
  },
  {
   "cell_type": "code",
   "execution_count": 16,
   "metadata": {},
   "outputs": [
    {
     "data": {
      "text/plain": [
       "'Hello, Jupyter !!'"
      ]
     },
     "execution_count": 16,
     "metadata": {},
     "output_type": "execute_result"
    }
   ],
   "source": [
    "fp.read()"
   ]
  },
  {
   "cell_type": "markdown",
   "metadata": {},
   "source": [
    "with 문은 내부적으로 알아서 종료를 해주는 점이 있다."
   ]
  },
  {
   "cell_type": "code",
   "execution_count": 18,
   "metadata": {},
   "outputs": [
    {
     "name": "stdout",
     "output_type": "stream",
     "text": [
      "Hello, Jupyter !!\n"
     ]
    }
   ],
   "source": [
    "\n",
    "with open('hello.txt', 'r') as fp:\n",
    "    data = fp.read()\n",
    "    print(data)"
   ]
  },
  {
   "cell_type": "markdown",
   "metadata": {},
   "source": [
    "fp.write 는 파일을 쓰는것."
   ]
  },
  {
   "cell_type": "code",
   "execution_count": 19,
   "metadata": {
    "collapsed": true
   },
   "outputs": [],
   "source": [
    "with open('subject.txt', 'w') as fp:\n",
    "    data = '파이썬을 이용한 빅데이터 분석!!'\n",
    "    fp.write(data)"
   ]
  },
  {
   "cell_type": "code",
   "execution_count": 20,
   "metadata": {},
   "outputs": [
    {
     "name": "stdout",
     "output_type": "stream",
     "text": [
      "파이썬을 이용한 빅데이터 분석!!\n"
     ]
    }
   ],
   "source": [
    "with open('subject.txt', 'r') as fp:\n",
    "    data = fp.read()\n",
    "    print(data)"
   ]
  },
  {
   "cell_type": "code",
   "execution_count": 22,
   "metadata": {},
   "outputs": [
    {
     "name": "stdout",
     "output_type": "stream",
     "text": [
      " C 드라이브의 볼륨에는 이름이 없습니다.\n",
      " 볼륨 일련 번호: D20D-A6C1\n",
      "\n",
      " C:\\Users\\조현기\\한경_빅데이터과정\\파이썬크롤링 디렉터리\n",
      "\n",
      "2018-01-12  오전 10:17                17 hello.txt\n",
      "2018-01-12  오전 10:22                31 subject.txt\n",
      "2018-01-12  오전 10:12                 0 untitled.txt\n",
      "               3개 파일                  48 바이트\n",
      "               0개 디렉터리  101,144,981,504 바이트 남음\n"
     ]
    }
   ],
   "source": [
    "% ls *.txt"
   ]
  },
  {
   "cell_type": "code",
   "execution_count": 32,
   "metadata": {
    "collapsed": true
   },
   "outputs": [],
   "source": [
    "with open(\"연습파일.txt\", \"w\") as ap:\n",
    "    data = \"텍스트 파일 내용 입력하는 중\"\n",
    "    ap.write(data)"
   ]
  },
  {
   "cell_type": "code",
   "execution_count": 27,
   "metadata": {},
   "outputs": [
    {
     "name": "stdout",
     "output_type": "stream",
     "text": [
      "텍스트 파일 내용 입력하는 중\n"
     ]
    }
   ],
   "source": [
    "with open(\"연습파일.txt\",\"r\") as ap:\n",
    "    data = ap.read()\n",
    "    print(data)"
   ]
  },
  {
   "cell_type": "code",
   "execution_count": 28,
   "metadata": {},
   "outputs": [
    {
     "name": "stdout",
     "output_type": "stream",
     "text": [
      " C 드라이브의 볼륨에는 이름이 없습니다.\n",
      " 볼륨 일련 번호: D20D-A6C1\n",
      "\n",
      " C:\\Users\\조현기\\한경_빅데이터과정\\파이썬크롤링 디렉터리\n",
      "\n",
      "2018-01-12  오전 10:17                17 hello.txt\n",
      "2018-01-12  오전 10:22                31 subject.txt\n",
      "2018-01-12  오전 10:12                 0 untitled.txt\n",
      "2018-01-12  오전 10:32                28 연습파일.txt\n",
      "               4개 파일                  76 바이트\n",
      "               0개 디렉터리  101,177,896,960 바이트 남음\n"
     ]
    }
   ],
   "source": [
    "% ls *.txt"
   ]
  },
  {
   "cell_type": "code",
   "execution_count": 37,
   "metadata": {
    "collapsed": true
   },
   "outputs": [],
   "source": [
    "with open(\"연습파일2.txt\",\"w\") as rt:\n",
    "    data2=\"내용을 입력하였으니 출력이 돼야 해!\"\n",
    "    rt.write(data2)"
   ]
  },
  {
   "cell_type": "code",
   "execution_count": 39,
   "metadata": {},
   "outputs": [
    {
     "name": "stdout",
     "output_type": "stream",
     "text": [
      "내용을 입력하였으니 출력이 돼야 해!\n"
     ]
    }
   ],
   "source": [
    "with open(\"연습파일2.txt\",\"r\") as rt:\n",
    "    data2 = rt.read()\n",
    "    print(data2)"
   ]
  },
  {
   "cell_type": "code",
   "execution_count": 59,
   "metadata": {},
   "outputs": [],
   "source": [
    "def read_csv(filepath):\n",
    "    ap= open(filepath , \"r\", encoding=\"utf-8\")\n",
    "    data = ap.read()\n",
    "    ap.close()\n",
    "    \n",
    "    elements = []\n",
    "    \n",
    "    rows = data.split(\"\\n\")\n",
    "    for row in rows:\n",
    "    \n",
    "        fields = row.split(\",\")\n",
    "        \n",
    "        element = {\n",
    "            \"name\"   : fields[0],\n",
    "            \"school\" : fields[1],\n",
    "            \"email\"  : fields[2],\n",
    "        }\n",
    "        elements.append(element)\n",
    "    return elements"
   ]
  },
  {
   "cell_type": "code",
   "execution_count": 60,
   "metadata": {},
   "outputs": [
    {
     "data": {
      "text/plain": [
       "[{'email': ' thkim@gmail.com', 'name': '김태희', 'school': ' 서울대'},\n",
       " {'email': ' sma@gmial.com', 'name': '신민아', 'school': ' 성균관대'},\n",
       " {'email': ' jhjeon@gmail.com', 'name': '전지현', 'school': ' 중앙대'},\n",
       " {'email': ' janggumi@gamil.com', 'name': '이영애', 'school': ' 숭실대'}]"
      ]
     },
     "execution_count": 60,
     "metadata": {},
     "output_type": "execute_result"
    }
   ],
   "source": [
    "filepath ='ex1.csv'\n",
    "read_csv(filepath)"
   ]
  },
  {
   "cell_type": "code",
   "execution_count": 67,
   "metadata": {
    "collapsed": true
   },
   "outputs": [],
   "source": [
    "def read_csv(filepath):         # 어떤 헤더가 있는 CSV 파일이든지 읽을 수 있는 함수\n",
    "                                # \",\" 말고 다른 어떤 seperator 가 들어가더라도, \n",
    "                                # CSV 읽을 수 있는 함수\n",
    "                                # \"\\t\", \"::\", \"|\" 이 모든 sep 에 대한 함수!\n",
    "    ap = open(filepath, 'r', encoding='utf-8')\n",
    "    data = ap.read()\n",
    "    ap.close()\n",
    "    \n",
    "    elements = []\n",
    "    \n",
    "    rows = data.split(\"\\n\")\n",
    "    columns = rows[0].split(\",\")    # [\"랭킹\", \"회사이름\", \"영문명\", \"창업자\"]\n",
    "    columns = [key.replace(' ','') for key in columns]\n",
    "    print(columns)\n",
    "    for row in rows[1:]:\n",
    "        fields = row.split(\",\")\n",
    "        element = {}\n",
    "        \n",
    "        for idx in range(len(columns)):   # index 의 값으로 비교해야 한다.\n",
    "            column = columns[idx]\n",
    "            field = fields[idx]\n",
    "            element[column] = field\n",
    "        \n",
    "        elements.append(element)\n",
    "    return elements"
   ]
  },
  {
   "cell_type": "code",
   "execution_count": 68,
   "metadata": {},
   "outputs": [
    {
     "name": "stdout",
     "output_type": "stream",
     "text": [
      "['랭킹', '회사이름', '영문명', '창업자']\n"
     ]
    },
    {
     "data": {
      "text/plain": [
       "[{'랭킹': '1', '영문명': ' Apple', '창업자': ' 스티브잡스 ', '회사이름': ' 애플'},\n",
       " {'랭킹': '2', '영문명': ' Google', '창업자': ' 세르게이브린 & 레리페이지 ', '회사이름': ' 구글'},\n",
       " {'랭킹': '3', '영문명': ' Microsoft', '창업자': ' 빌게이츠 & 폴앨런 ', '회사이름': ' 마이크로소프트'},\n",
       " {'랭킹': '4', '영문명': ' Facebook', '창업자': ' 마크쥬크버그 ', '회사이름': ' 페이스북'},\n",
       " {'랭킹': '5', '영문명': ' Airbnb', '창업자': ' 브라이언체크키 & 조게비어', '회사이름': ' 에어비엔비'}]"
      ]
     },
     "execution_count": 68,
     "metadata": {},
     "output_type": "execute_result"
    }
   ],
   "source": [
    "filepath = 'company.csv'\n",
    "read_csv(filepath)"
   ]
  },
  {
   "cell_type": "code",
   "execution_count": null,
   "metadata": {
    "collapsed": true
   },
   "outputs": [],
   "source": []
  }
 ],
 "metadata": {
  "kernelspec": {
   "display_name": "Python 3",
   "language": "python",
   "name": "python3"
  },
  "language_info": {
   "codemirror_mode": {
    "name": "ipython",
    "version": 3
   },
   "file_extension": ".py",
   "mimetype": "text/x-python",
   "name": "python",
   "nbconvert_exporter": "python",
   "pygments_lexer": "ipython3",
   "version": "3.6.3"
  }
 },
 "nbformat": 4,
 "nbformat_minor": 2
}
