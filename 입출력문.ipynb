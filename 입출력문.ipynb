{
 "cells": [
  {
   "cell_type": "markdown",
   "metadata": {},
   "source": [
    "## 입출력문 "
   ]
  },
  {
   "cell_type": "code",
   "execution_count": null,
   "metadata": {
    "collapsed": true
   },
   "outputs": [],
   "source": [
    "math_score = 100  \n",
    "science_score = 70\n",
    "english_score = 100"
   ]
  },
  {
   "cell_type": "code",
   "execution_count": null,
   "metadata": {},
   "outputs": [],
   "source": [
    "print(math_score, science_score, english_score)"
   ]
  },
  {
   "cell_type": "code",
   "execution_count": null,
   "metadata": {},
   "outputs": [],
   "source": [
    "print( \"내 수학점수는 : \", math_score)"
   ]
  },
  {
   "cell_type": "code",
   "execution_count": null,
   "metadata": {},
   "outputs": [],
   "source": [
    "print( \"내 수학 점수는 :\", math_score,\n",
    "        \"내 과학 점수는:\", science_score\n",
    "       )"
   ]
  },
  {
   "cell_type": "code",
   "execution_count": null,
   "metadata": {},
   "outputs": [],
   "source": [
    "print(\"수학점수는 : {0}\\n\", \"과학점수는 : {1}\\n\", \"영어점수는 : {2}\\n\"  \n",
    ".format(math_score,science_score,english_score))"
   ]
  },
  {
   "cell_type": "code",
   "execution_count": null,
   "metadata": {},
   "outputs": [],
   "source": [
    "print(\"안녕하세요\")  \n",
    "print(\"저는 홍길동입니다.\")"
   ]
  },
  {
   "cell_type": "code",
   "execution_count": null,
   "metadata": {},
   "outputs": [],
   "source": [
    "print(\"안녕하세요\", end = '\\n\\n')\n",
    "print(\"\")"
   ]
  },
  {
   "cell_type": "code",
   "execution_count": null,
   "metadata": {},
   "outputs": [],
   "source": [
    "name= input()"
   ]
  },
  {
   "cell_type": "code",
   "execution_count": null,
   "metadata": {},
   "outputs": [],
   "source": [
    "name= input(\"이름을 입력하세요 : \")\n",
    "phone= input(\"전화번호를 입력하세요 : \")\n",
    "add= input(\"주소를 입력하세요 : \")\n",
    "\n",
    "print(\"이름\": {0}\\n 전화번호 : {1}\\n 주소 : {2}\"\n",
    "      .format(name, phone, add))"
   ]
  },
  {
   "cell_type": "code",
   "execution_count": 11,
   "metadata": {},
   "outputs": [
    {
     "name": "stdout",
     "output_type": "stream",
     "text": [
      "국어 성적을 입력하세요 : 78\n",
      "수학 성적을 입력하세요 : 90\n",
      "영어 성적을 입력하세요 : 86\n",
      "\n",
      "입력받은 성적 \n",
      " --------------- \n",
      " 국어 성적 : 78\n",
      " 수학 성적 : 90 \n",
      " 영어 성적 : 86 \n",
      " -----------\n",
      " 총점 : 254 \n",
      " 평균 : 84.67 \n"
     ]
    }
   ],
   "source": [
    "korean_score = int(input(\"국어 성적을 입력하세요 : \"))\n",
    "math_score = int(input(\"수학 성적을 입력하세요 : \"))  \n",
    "english_score = int(input(\"영어 성적을 입력하세요 : \"))  \n",
    "average = round((korean_score+math_score+english_score)/3,2)  \n",
    "sum = korean_score+math_score+english_score\n",
    "print( \"\\n입력받은 성적 \\n --------------- \\n 국어 성적 : {0}\\n 수학 성적 : {1} \\n 영어 성적 : {2} \\n -----------\\n 총점 : {3} \\n 평균 : {4} \".format(korean_score,math_score,english_score,sum,average))\n",
    "    "
   ]
  },
  {
   "cell_type": "code",
   "execution_count": 12,
   "metadata": {},
   "outputs": [
    {
     "name": "stdout",
     "output_type": "stream",
     "text": [
      "반지름을 입력하시오 :5\n",
      "반지름 : 5 \n",
      " 원의 넓이 : 78.54 \n",
      " 원의 둘레 : 31.416 \n",
      " \n"
     ]
    }
   ],
   "source": [
    "반지름 = int(input(\"반지름을 입력하시오 :\"))  \n",
    "원넓이 = round(반지름*반지름*3.141592,3)\n",
    "원둘레 = round(2*반지름*3.141592,3)\n",
    "print(\"반지름 : {0} \\n 원의 넓이 : {1} \\n 원의 둘레 : {2} \\n \".format(반지름,원넓이,원둘레))"
   ]
  },
  {
   "cell_type": "code",
   "execution_count": 20,
   "metadata": {},
   "outputs": [
    {
     "name": "stdout",
     "output_type": "stream",
     "text": [
      "다섯 자리 숫자를 입력하시오 : 56788\n",
      "\n",
      " 5 , 6 , 7 , 8 , 8 \n",
      " 끝내려면 엔터를 누르세요. \n",
      " >>>\n",
      "\n"
     ]
    }
   ],
   "source": [
    "lang=str(input(\"다섯 자리 숫자를 입력하시오 : \"))\n",
    "일=lang[0]\n",
    "이=lang[1]\n",
    "삼=lang[2]\n",
    "사=lang[3]\n",
    "오=lang[4]\n",
    "print(\"\\n {0} , {1} , {2} , {3} , {4} \\n 끝내려면 엔터를 누르세요. \\n >>>\\n\".format(일,이,삼,사,오))\n"
   ]
  },
  {
   "cell_type": "code",
   "execution_count": null,
   "metadata": {
    "collapsed": true
   },
   "outputs": [],
   "source": []
  }
 ],
 "metadata": {
  "kernelspec": {
   "display_name": "Python 3",
   "language": "python",
   "name": "python3"
  },
  "language_info": {
   "codemirror_mode": {
    "name": "ipython",
    "version": 3
   },
   "file_extension": ".py",
   "mimetype": "text/x-python",
   "name": "python",
   "nbconvert_exporter": "python",
   "pygments_lexer": "ipython3",
   "version": "3.6.3"
  }
 },
 "nbformat": 4,
 "nbformat_minor": 2
}
